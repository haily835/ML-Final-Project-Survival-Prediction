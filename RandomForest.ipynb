{
 "cells": [
  {
   "cell_type": "markdown",
   "id": "a16c6cca",
   "metadata": {},
   "source": [
    "### Random forest feature selection"
   ]
  },
  {
   "cell_type": "code",
   "execution_count": 14,
   "id": "85590025",
   "metadata": {},
   "outputs": [
    {
     "name": "stdout",
     "output_type": "stream",
     "text": [
      "Top features selected by Random Forest:\n",
      "Index(['RAMP3', 'SLC35C1', 'DUSP13', 'CCDC170', 'KRT24', 'MELK', 'KRTAP5-3',\n",
      "       'ADGRG1', 'TNS4', 'DYDC1', 'NOX5', 'GSDMB', 'DUOX2', 'RBM28', 'RORB',\n",
      "       'WDR19', 'CYP4F3', 'PREX1', 'RPL6', 'INAVA', 'FAM187B', 'B4GALT5',\n",
      "       'EPHX2', 'KCNE2', 'AADAC', 'C10orf129', 'FSIP1', 'IRF4', 'C12orf45',\n",
      "       'FAM207A', 'ZNF646', 'MRC1L1', 'SOX11', 'ESR1', 'STXBP5', 'ZNF670',\n",
      "       'GRHPR', 'RERG', 'FUT10', 'PGR', 'SKP2', 'SMARCE1', 'ADGRG6', 'PIGV',\n",
      "       'FAM83D', 'TMEM144', 'OR2L2', 'C5', 'KRT75', 'NOLC1', 'SYT2', 'CA12',\n",
      "       'PNPLA4', 'GOLGA8CP', 'PPP1R1B', 'ARSG', 'ACE2', 'ZNF224', 'SMYD5',\n",
      "       'LONRF2', 'TMOD3', 'HGC6.3', 'BCL2', 'FBL', 'KLHDC2', 'ARIH1',\n",
      "       'NR2F2-AS1', 'SPACA7', 'ANP32AP1', 'OR7A10', 'C3orf36', 'OR8G2',\n",
      "       'NUP155', 'SUSD3', 'PLXDC2', 'AGR3', 'WFDC3', 'ACADSB', 'APTX',\n",
      "       'ZNF736', 'CDCA7', 'OR52N1', 'DEGS2', 'CCT5', 'RIPK4', 'CDCA8', 'TEX2',\n",
      "       'C11orf91', 'PDCD6IP', 'SMAD7', 'CENPA', 'CRABP1', 'YIPF3', 'ENO1',\n",
      "       'LPHN1', 'WHSC1', 'SETD5', 'IPO7', 'ABHD14A', 'POLR1E'],\n",
      "      dtype='object')\n"
     ]
    }
   ],
   "source": [
    "import pandas as pd\n",
    "import numpy as np\n",
    "from sklearn.model_selection import StratifiedKFold\n",
    "from sklearn.ensemble import RandomForestClassifier\n",
    "from sklearn.metrics import accuracy_score, classification_report\n",
    "\n",
    "# Read your data\n",
    "df = pd.read_csv('./data/processed_mrna_zscore.csv')\n",
    "X = df.iloc[:, :-2]\n",
    "y = df.iloc[:, -1]\n",
    "\n",
    "\n",
    "def evaluate_features(X, y, selected_features, classifier, k_folds=10):\n",
    "    skf = StratifiedKFold(n_splits=k_folds, shuffle=True, random_state=42)\n",
    "\n",
    "    weighted_accuracies = []\n",
    "\n",
    "    for i, (train_index, test_index) in enumerate(skf.split(X, y)):\n",
    "        X_train, X_test = X.iloc[train_index], X.iloc[test_index]\n",
    "        y_train, y_test = y.iloc[train_index], y.iloc[test_index]\n",
    "\n",
    "        # Train the classifier on the selected features\n",
    "        classifier.fit(X_train[selected_features], y_train)\n",
    "\n",
    "        # Make predictions on the test set\n",
    "        y_pred = classifier.predict(X_test[selected_features])\n",
    "\n",
    "        # Calculate and store the weighted accuracy\n",
    "        weighted_accuracy = accuracy_score(y_test, y_pred, sample_weight=None)\n",
    "        weighted_accuracies.append(weighted_accuracy)\n",
    "\n",
    "        # Print class-wise accuracies for each fold\n",
    "        class_report = classification_report(y_test, y_pred, output_dict=True)\n",
    "        print(f\"\\nFold {i + 1} - Class-wise Accuracies:\")\n",
    "        print(class_report)\n",
    "\n",
    "        print(f\"Fold {i + 1} : {weighted_accuracy}\")\n",
    "\n",
    "    # Calculate the average weighted accuracy\n",
    "    average_weighted_accuracy = np.mean(weighted_accuracies)\n",
    "    print(\"Average Weighted Accuracy:\", average_weighted_accuracy)\n",
    "\n",
    "    return average_weighted_accuracy\n",
    "\n",
    "def feature_selection_random_forest(X, y, n_estimators=100, top_n=15, k_folds=10):\n",
    "    skf = StratifiedKFold(n_splits=k_folds, shuffle=True, random_state=42)\n",
    "\n",
    "    # Initialize RandomForestClassifier\n",
    "    rf_classifier = RandomForestClassifier(n_estimators=n_estimators, n_jobs=-1)\n",
    "\n",
    "    feature_importances = np.zeros(X.shape[1])\n",
    "\n",
    "    for train_index, test_index in skf.split(X, y):\n",
    "        X_train, X_test = X.iloc[train_index], X.iloc[test_index]\n",
    "        y_train, y_test = y.iloc[train_index], y.iloc[test_index]\n",
    "\n",
    "        # Fit the Random Forest model\n",
    "        rf_classifier.fit(X_train, y_train)\n",
    "\n",
    "        # Accumulate feature importances\n",
    "        feature_importances += rf_classifier.feature_importances_\n",
    "\n",
    "    # Average feature importances across folds\n",
    "    feature_importances /= k_folds\n",
    "\n",
    "    # Get indices of top N features\n",
    "    top_n_indices = np.argsort(feature_importances)[::-1][:top_n]\n",
    "\n",
    "#     # Convert top_features to a DataFrame\n",
    "#     top_features = pd.DataFrame(X.columns[top_n_indices], columns=['Top Features'])\n",
    "\n",
    "    # Print and return the top features\n",
    "    top_features = X.columns[top_n_indices]\n",
    "    print(\"Top features selected by Random Forest:\")\n",
    "    print(top_features)\n",
    "    \n",
    "#     # Save top features to a text file\n",
    "#     top_features.to_csv('top_features_rf.txt', index=False, header=False)\n",
    "     # Save top features to a text file\n",
    "    np.savetxt(f'top_features_rf_{top_n}.txt', X.columns[top_n_indices], fmt='%s')\n",
    "\n",
    "\n",
    "    return top_features\n",
    "\n",
    "# Select top features using Random Forest\n",
    "selected_features_rf = feature_selection_random_forest(X, y, n_estimators=100, top_n=100, k_folds=10)\n",
    "\n",
    "# Evaluate the selected features using RandomForestClassifier\n",
    "# accuracy_rf = evaluate_features(X, y, selected_features_rf, RandomForestClassifier(n_estimators=100, n_jobs=-1))\n",
    "# print(f\"Random Forest Accuracy with selected features: {accuracy_rf}\")\n"
   ]
  },
  {
   "cell_type": "markdown",
   "id": "9917552a",
   "metadata": {},
   "source": [
    "### Select K Feature Selection"
   ]
  },
  {
   "cell_type": "code",
   "execution_count": 8,
   "id": "d0638eb3",
   "metadata": {},
   "outputs": [
    {
     "name": "stdout",
     "output_type": "stream",
     "text": [
      "Top 15 features selected by SelectKBest:\n",
      "Index(['FAM83D', 'MELK', 'RABEP1', 'ECE2', 'CENPW', 'KCNG1', 'ZNF670', 'SUSD3',\n",
      "       'MID1', 'CDCA7', 'MAPT', 'PDSS1', 'WDR43', 'SOX11', 'ESR1', 'PREX1',\n",
      "       'CCNE1', 'IL6ST', 'CENPL', 'BCL2', 'PLK1', 'FGD3', 'AGR3', 'RIPK4',\n",
      "       'GATA3', 'FBP1', 'CA9', 'WDR19', 'INAVA'],\n",
      "      dtype='object')\n"
     ]
    },
    {
     "name": "stderr",
     "output_type": "stream",
     "text": [
      "/opt/anaconda3/lib/python3.9/site-packages/sklearn/metrics/_classification.py:1248: UndefinedMetricWarning: Precision and F-score are ill-defined and being set to 0.0 in labels with no predicted samples. Use `zero_division` parameter to control this behavior.\n",
      "  _warn_prf(average, modifier, msg_start, len(result))\n",
      "/opt/anaconda3/lib/python3.9/site-packages/sklearn/metrics/_classification.py:1248: UndefinedMetricWarning: Precision and F-score are ill-defined and being set to 0.0 in labels with no predicted samples. Use `zero_division` parameter to control this behavior.\n",
      "  _warn_prf(average, modifier, msg_start, len(result))\n",
      "/opt/anaconda3/lib/python3.9/site-packages/sklearn/metrics/_classification.py:1248: UndefinedMetricWarning: Precision and F-score are ill-defined and being set to 0.0 in labels with no predicted samples. Use `zero_division` parameter to control this behavior.\n",
      "  _warn_prf(average, modifier, msg_start, len(result))\n"
     ]
    },
    {
     "name": "stdout",
     "output_type": "stream",
     "text": [
      "\n",
      "Fold 1 - Class-wise Accuracies:\n",
      "{'long': {'precision': 0.868020304568528, 'recall': 1.0, 'f1-score': 0.9293478260869565, 'support': 171}, 'medium': {'precision': 0.0, 'recall': 0.0, 'f1-score': 0.0, 'support': 21}, 'short': {'precision': 0.0, 'recall': 0.0, 'f1-score': 0.0, 'support': 5}, 'accuracy': 0.868020304568528, 'macro avg': {'precision': 0.2893401015228427, 'recall': 0.3333333333333333, 'f1-score': 0.30978260869565216, 'support': 197}, 'weighted avg': {'precision': 0.75345924914324, 'recall': 0.868020304568528, 'f1-score': 0.8066927830500993, 'support': 197}}\n",
      "Fold 1 : 0.868020304568528\n"
     ]
    },
    {
     "name": "stderr",
     "output_type": "stream",
     "text": [
      "/opt/anaconda3/lib/python3.9/site-packages/sklearn/metrics/_classification.py:1248: UndefinedMetricWarning: Precision and F-score are ill-defined and being set to 0.0 in labels with no predicted samples. Use `zero_division` parameter to control this behavior.\n",
      "  _warn_prf(average, modifier, msg_start, len(result))\n",
      "/opt/anaconda3/lib/python3.9/site-packages/sklearn/metrics/_classification.py:1248: UndefinedMetricWarning: Precision and F-score are ill-defined and being set to 0.0 in labels with no predicted samples. Use `zero_division` parameter to control this behavior.\n",
      "  _warn_prf(average, modifier, msg_start, len(result))\n",
      "/opt/anaconda3/lib/python3.9/site-packages/sklearn/metrics/_classification.py:1248: UndefinedMetricWarning: Precision and F-score are ill-defined and being set to 0.0 in labels with no predicted samples. Use `zero_division` parameter to control this behavior.\n",
      "  _warn_prf(average, modifier, msg_start, len(result))\n"
     ]
    },
    {
     "name": "stdout",
     "output_type": "stream",
     "text": [
      "\n",
      "Fold 2 - Class-wise Accuracies:\n",
      "{'long': {'precision': 0.8717948717948718, 'recall': 0.9941520467836257, 'f1-score': 0.9289617486338798, 'support': 171}, 'medium': {'precision': 0.0, 'recall': 0.0, 'f1-score': 0.0, 'support': 21}, 'short': {'precision': 0.0, 'recall': 0.0, 'f1-score': 0.0, 'support': 5}, 'accuracy': 0.8629441624365483, 'macro avg': {'precision': 0.2905982905982906, 'recall': 0.3313840155945419, 'f1-score': 0.3096539162112933, 'support': 197}, 'weighted avg': {'precision': 0.7567356501366653, 'recall': 0.8629441624365483, 'f1-score': 0.8063576599816926, 'support': 197}}\n",
      "Fold 2 : 0.8629441624365483\n"
     ]
    },
    {
     "name": "stderr",
     "output_type": "stream",
     "text": [
      "/opt/anaconda3/lib/python3.9/site-packages/sklearn/metrics/_classification.py:1248: UndefinedMetricWarning: Precision and F-score are ill-defined and being set to 0.0 in labels with no predicted samples. Use `zero_division` parameter to control this behavior.\n",
      "  _warn_prf(average, modifier, msg_start, len(result))\n",
      "/opt/anaconda3/lib/python3.9/site-packages/sklearn/metrics/_classification.py:1248: UndefinedMetricWarning: Precision and F-score are ill-defined and being set to 0.0 in labels with no predicted samples. Use `zero_division` parameter to control this behavior.\n",
      "  _warn_prf(average, modifier, msg_start, len(result))\n",
      "/opt/anaconda3/lib/python3.9/site-packages/sklearn/metrics/_classification.py:1248: UndefinedMetricWarning: Precision and F-score are ill-defined and being set to 0.0 in labels with no predicted samples. Use `zero_division` parameter to control this behavior.\n",
      "  _warn_prf(average, modifier, msg_start, len(result))\n"
     ]
    },
    {
     "name": "stdout",
     "output_type": "stream",
     "text": [
      "\n",
      "Fold 3 - Class-wise Accuracies:\n",
      "{'long': {'precision': 0.868020304568528, 'recall': 1.0, 'f1-score': 0.9293478260869565, 'support': 171}, 'medium': {'precision': 0.0, 'recall': 0.0, 'f1-score': 0.0, 'support': 21}, 'short': {'precision': 0.0, 'recall': 0.0, 'f1-score': 0.0, 'support': 5}, 'accuracy': 0.868020304568528, 'macro avg': {'precision': 0.2893401015228427, 'recall': 0.3333333333333333, 'f1-score': 0.30978260869565216, 'support': 197}, 'weighted avg': {'precision': 0.75345924914324, 'recall': 0.868020304568528, 'f1-score': 0.8066927830500993, 'support': 197}}\n",
      "Fold 3 : 0.868020304568528\n"
     ]
    },
    {
     "name": "stderr",
     "output_type": "stream",
     "text": [
      "/opt/anaconda3/lib/python3.9/site-packages/sklearn/metrics/_classification.py:1248: UndefinedMetricWarning: Precision and F-score are ill-defined and being set to 0.0 in labels with no predicted samples. Use `zero_division` parameter to control this behavior.\n",
      "  _warn_prf(average, modifier, msg_start, len(result))\n",
      "/opt/anaconda3/lib/python3.9/site-packages/sklearn/metrics/_classification.py:1248: UndefinedMetricWarning: Precision and F-score are ill-defined and being set to 0.0 in labels with no predicted samples. Use `zero_division` parameter to control this behavior.\n",
      "  _warn_prf(average, modifier, msg_start, len(result))\n",
      "/opt/anaconda3/lib/python3.9/site-packages/sklearn/metrics/_classification.py:1248: UndefinedMetricWarning: Precision and F-score are ill-defined and being set to 0.0 in labels with no predicted samples. Use `zero_division` parameter to control this behavior.\n",
      "  _warn_prf(average, modifier, msg_start, len(result))\n"
     ]
    },
    {
     "name": "stdout",
     "output_type": "stream",
     "text": [
      "\n",
      "Fold 4 - Class-wise Accuracies:\n",
      "{'long': {'precision': 0.8629441624365483, 'recall': 1.0, 'f1-score': 0.9264305177111716, 'support': 170}, 'medium': {'precision': 0.0, 'recall': 0.0, 'f1-score': 0.0, 'support': 22}, 'short': {'precision': 0.0, 'recall': 0.0, 'f1-score': 0.0, 'support': 5}, 'accuracy': 0.8629441624365483, 'macro avg': {'precision': 0.2876480541455161, 'recall': 0.3333333333333333, 'f1-score': 0.3088101725703905, 'support': 197}, 'weighted avg': {'precision': 0.7446726274833158, 'recall': 0.8629441624365483, 'f1-score': 0.7994578071619247, 'support': 197}}\n",
      "Fold 4 : 0.8629441624365483\n"
     ]
    },
    {
     "name": "stderr",
     "output_type": "stream",
     "text": [
      "/opt/anaconda3/lib/python3.9/site-packages/sklearn/metrics/_classification.py:1248: UndefinedMetricWarning: Precision and F-score are ill-defined and being set to 0.0 in labels with no predicted samples. Use `zero_division` parameter to control this behavior.\n",
      "  _warn_prf(average, modifier, msg_start, len(result))\n",
      "/opt/anaconda3/lib/python3.9/site-packages/sklearn/metrics/_classification.py:1248: UndefinedMetricWarning: Precision and F-score are ill-defined and being set to 0.0 in labels with no predicted samples. Use `zero_division` parameter to control this behavior.\n",
      "  _warn_prf(average, modifier, msg_start, len(result))\n",
      "/opt/anaconda3/lib/python3.9/site-packages/sklearn/metrics/_classification.py:1248: UndefinedMetricWarning: Precision and F-score are ill-defined and being set to 0.0 in labels with no predicted samples. Use `zero_division` parameter to control this behavior.\n",
      "  _warn_prf(average, modifier, msg_start, len(result))\n"
     ]
    },
    {
     "name": "stdout",
     "output_type": "stream",
     "text": [
      "\n",
      "Fold 5 - Class-wise Accuracies:\n",
      "{'long': {'precision': 0.865979381443299, 'recall': 0.9882352941176471, 'f1-score': 0.9230769230769231, 'support': 170}, 'medium': {'precision': 0.0, 'recall': 0.0, 'f1-score': 0.0, 'support': 22}, 'short': {'precision': 0.0, 'recall': 0.0, 'f1-score': 0.0, 'support': 4}, 'accuracy': 0.8571428571428571, 'macro avg': {'precision': 0.288659793814433, 'recall': 0.32941176470588235, 'f1-score': 0.3076923076923077, 'support': 196}, 'weighted avg': {'precision': 0.7511045655375553, 'recall': 0.8571428571428571, 'f1-score': 0.8006279434850864, 'support': 196}}\n",
      "Fold 5 : 0.8571428571428571\n"
     ]
    },
    {
     "name": "stderr",
     "output_type": "stream",
     "text": [
      "/opt/anaconda3/lib/python3.9/site-packages/sklearn/metrics/_classification.py:1248: UndefinedMetricWarning: Precision and F-score are ill-defined and being set to 0.0 in labels with no predicted samples. Use `zero_division` parameter to control this behavior.\n",
      "  _warn_prf(average, modifier, msg_start, len(result))\n",
      "/opt/anaconda3/lib/python3.9/site-packages/sklearn/metrics/_classification.py:1248: UndefinedMetricWarning: Precision and F-score are ill-defined and being set to 0.0 in labels with no predicted samples. Use `zero_division` parameter to control this behavior.\n",
      "  _warn_prf(average, modifier, msg_start, len(result))\n",
      "/opt/anaconda3/lib/python3.9/site-packages/sklearn/metrics/_classification.py:1248: UndefinedMetricWarning: Precision and F-score are ill-defined and being set to 0.0 in labels with no predicted samples. Use `zero_division` parameter to control this behavior.\n",
      "  _warn_prf(average, modifier, msg_start, len(result))\n"
     ]
    },
    {
     "name": "stdout",
     "output_type": "stream",
     "text": [
      "\n",
      "Fold 6 - Class-wise Accuracies:\n",
      "{'long': {'precision': 0.8673469387755102, 'recall': 1.0, 'f1-score': 0.9289617486338798, 'support': 170}, 'medium': {'precision': 0.0, 'recall': 0.0, 'f1-score': 0.0, 'support': 22}, 'short': {'precision': 0.0, 'recall': 0.0, 'f1-score': 0.0, 'support': 4}, 'accuracy': 0.8673469387755102, 'macro avg': {'precision': 0.2891156462585034, 'recall': 0.3333333333333333, 'f1-score': 0.3096539162112933, 'support': 196}, 'weighted avg': {'precision': 0.7522907122032486, 'recall': 0.8673469387755102, 'f1-score': 0.8057321289171406, 'support': 196}}\n",
      "Fold 6 : 0.8673469387755102\n"
     ]
    },
    {
     "name": "stderr",
     "output_type": "stream",
     "text": [
      "/opt/anaconda3/lib/python3.9/site-packages/sklearn/metrics/_classification.py:1248: UndefinedMetricWarning: Precision and F-score are ill-defined and being set to 0.0 in labels with no predicted samples. Use `zero_division` parameter to control this behavior.\n",
      "  _warn_prf(average, modifier, msg_start, len(result))\n",
      "/opt/anaconda3/lib/python3.9/site-packages/sklearn/metrics/_classification.py:1248: UndefinedMetricWarning: Precision and F-score are ill-defined and being set to 0.0 in labels with no predicted samples. Use `zero_division` parameter to control this behavior.\n",
      "  _warn_prf(average, modifier, msg_start, len(result))\n",
      "/opt/anaconda3/lib/python3.9/site-packages/sklearn/metrics/_classification.py:1248: UndefinedMetricWarning: Precision and F-score are ill-defined and being set to 0.0 in labels with no predicted samples. Use `zero_division` parameter to control this behavior.\n",
      "  _warn_prf(average, modifier, msg_start, len(result))\n"
     ]
    },
    {
     "name": "stdout",
     "output_type": "stream",
     "text": [
      "\n",
      "Fold 7 - Class-wise Accuracies:\n",
      "{'long': {'precision': 0.8673469387755102, 'recall': 1.0, 'f1-score': 0.9289617486338798, 'support': 170}, 'medium': {'precision': 0.0, 'recall': 0.0, 'f1-score': 0.0, 'support': 22}, 'short': {'precision': 0.0, 'recall': 0.0, 'f1-score': 0.0, 'support': 4}, 'accuracy': 0.8673469387755102, 'macro avg': {'precision': 0.2891156462585034, 'recall': 0.3333333333333333, 'f1-score': 0.3096539162112933, 'support': 196}, 'weighted avg': {'precision': 0.7522907122032486, 'recall': 0.8673469387755102, 'f1-score': 0.8057321289171406, 'support': 196}}\n",
      "Fold 7 : 0.8673469387755102\n"
     ]
    },
    {
     "name": "stderr",
     "output_type": "stream",
     "text": [
      "/opt/anaconda3/lib/python3.9/site-packages/sklearn/metrics/_classification.py:1248: UndefinedMetricWarning: Precision and F-score are ill-defined and being set to 0.0 in labels with no predicted samples. Use `zero_division` parameter to control this behavior.\n",
      "  _warn_prf(average, modifier, msg_start, len(result))\n",
      "/opt/anaconda3/lib/python3.9/site-packages/sklearn/metrics/_classification.py:1248: UndefinedMetricWarning: Precision and F-score are ill-defined and being set to 0.0 in labels with no predicted samples. Use `zero_division` parameter to control this behavior.\n",
      "  _warn_prf(average, modifier, msg_start, len(result))\n",
      "/opt/anaconda3/lib/python3.9/site-packages/sklearn/metrics/_classification.py:1248: UndefinedMetricWarning: Precision and F-score are ill-defined and being set to 0.0 in labels with no predicted samples. Use `zero_division` parameter to control this behavior.\n",
      "  _warn_prf(average, modifier, msg_start, len(result))\n"
     ]
    },
    {
     "name": "stdout",
     "output_type": "stream",
     "text": [
      "\n",
      "Fold 8 - Class-wise Accuracies:\n",
      "{'long': {'precision': 0.8673469387755102, 'recall': 1.0, 'f1-score': 0.9289617486338798, 'support': 170}, 'medium': {'precision': 0.0, 'recall': 0.0, 'f1-score': 0.0, 'support': 22}, 'short': {'precision': 0.0, 'recall': 0.0, 'f1-score': 0.0, 'support': 4}, 'accuracy': 0.8673469387755102, 'macro avg': {'precision': 0.2891156462585034, 'recall': 0.3333333333333333, 'f1-score': 0.3096539162112933, 'support': 196}, 'weighted avg': {'precision': 0.7522907122032486, 'recall': 0.8673469387755102, 'f1-score': 0.8057321289171406, 'support': 196}}\n",
      "Fold 8 : 0.8673469387755102\n"
     ]
    },
    {
     "name": "stderr",
     "output_type": "stream",
     "text": [
      "/opt/anaconda3/lib/python3.9/site-packages/sklearn/metrics/_classification.py:1248: UndefinedMetricWarning: Precision and F-score are ill-defined and being set to 0.0 in labels with no predicted samples. Use `zero_division` parameter to control this behavior.\n",
      "  _warn_prf(average, modifier, msg_start, len(result))\n",
      "/opt/anaconda3/lib/python3.9/site-packages/sklearn/metrics/_classification.py:1248: UndefinedMetricWarning: Precision and F-score are ill-defined and being set to 0.0 in labels with no predicted samples. Use `zero_division` parameter to control this behavior.\n",
      "  _warn_prf(average, modifier, msg_start, len(result))\n",
      "/opt/anaconda3/lib/python3.9/site-packages/sklearn/metrics/_classification.py:1248: UndefinedMetricWarning: Precision and F-score are ill-defined and being set to 0.0 in labels with no predicted samples. Use `zero_division` parameter to control this behavior.\n",
      "  _warn_prf(average, modifier, msg_start, len(result))\n"
     ]
    },
    {
     "name": "stdout",
     "output_type": "stream",
     "text": [
      "\n",
      "Fold 9 - Class-wise Accuracies:\n",
      "{'long': {'precision': 0.8762886597938144, 'recall': 1.0, 'f1-score': 0.9340659340659341, 'support': 170}, 'medium': {'precision': 0.5, 'recall': 0.045454545454545456, 'f1-score': 0.08333333333333334, 'support': 22}, 'short': {'precision': 0.0, 'recall': 0.0, 'f1-score': 0.0, 'support': 4}, 'accuracy': 0.8724489795918368, 'macro avg': {'precision': 0.4587628865979381, 'recall': 0.34848484848484845, 'f1-score': 0.3391330891330891, 'support': 196}, 'weighted avg': {'precision': 0.8161687355354512, 'recall': 0.8724489795918368, 'f1-score': 0.8195129700231741, 'support': 196}}\n",
      "Fold 9 : 0.8724489795918368\n",
      "\n",
      "Fold 10 - Class-wise Accuracies:\n",
      "{'long': {'precision': 0.8673469387755102, 'recall': 1.0, 'f1-score': 0.9289617486338798, 'support': 170}, 'medium': {'precision': 0.0, 'recall': 0.0, 'f1-score': 0.0, 'support': 21}, 'short': {'precision': 0.0, 'recall': 0.0, 'f1-score': 0.0, 'support': 5}, 'accuracy': 0.8673469387755102, 'macro avg': {'precision': 0.2891156462585034, 'recall': 0.3333333333333333, 'f1-score': 0.3096539162112933, 'support': 196}, 'weighted avg': {'precision': 0.7522907122032486, 'recall': 0.8673469387755102, 'f1-score': 0.8057321289171406, 'support': 196}}\n",
      "Fold 10 : 0.8673469387755102\n",
      "Average Weighted Accuracy: 0.8660908525846885\n",
      "SelectKBest Accuracy with selected features: 0.8660908525846885\n"
     ]
    },
    {
     "name": "stderr",
     "output_type": "stream",
     "text": [
      "/opt/anaconda3/lib/python3.9/site-packages/sklearn/metrics/_classification.py:1248: UndefinedMetricWarning: Precision and F-score are ill-defined and being set to 0.0 in labels with no predicted samples. Use `zero_division` parameter to control this behavior.\n",
      "  _warn_prf(average, modifier, msg_start, len(result))\n",
      "/opt/anaconda3/lib/python3.9/site-packages/sklearn/metrics/_classification.py:1248: UndefinedMetricWarning: Precision and F-score are ill-defined and being set to 0.0 in labels with no predicted samples. Use `zero_division` parameter to control this behavior.\n",
      "  _warn_prf(average, modifier, msg_start, len(result))\n",
      "/opt/anaconda3/lib/python3.9/site-packages/sklearn/metrics/_classification.py:1248: UndefinedMetricWarning: Precision and F-score are ill-defined and being set to 0.0 in labels with no predicted samples. Use `zero_division` parameter to control this behavior.\n",
      "  _warn_prf(average, modifier, msg_start, len(result))\n"
     ]
    }
   ],
   "source": [
    "import pandas as pd\n",
    "import numpy as np\n",
    "from sklearn.model_selection import StratifiedKFold\n",
    "from sklearn.ensemble import RandomForestClassifier\n",
    "from sklearn.feature_selection import SelectKBest, f_classif\n",
    "from sklearn.metrics import accuracy_score, classification_report\n",
    "\n",
    "# Read your data\n",
    "df = pd.read_csv('processed_mrna_zscore.csv')\n",
    "X = df.iloc[:, :-2]\n",
    "y = df.iloc[:, -1]\n",
    "\n",
    "\n",
    "def evaluate_features(X, y, selected_features, classifier, k_folds=10):\n",
    "    skf = StratifiedKFold(n_splits=k_folds, shuffle=True, random_state=42)\n",
    "\n",
    "    weighted_accuracies = []\n",
    "\n",
    "    for i, (train_index, test_index) in enumerate(skf.split(X, y)):\n",
    "        X_train, X_test = X.iloc[train_index], X.iloc[test_index]\n",
    "        y_train, y_test = y.iloc[train_index], y.iloc[test_index]\n",
    "\n",
    "        # Train the classifier on the selected features\n",
    "        classifier.fit(X_train[selected_features], y_train)\n",
    "\n",
    "        # Make predictions on the test set\n",
    "        y_pred = classifier.predict(X_test[selected_features])\n",
    "\n",
    "        # Calculate and store the weighted accuracy\n",
    "        weighted_accuracy = accuracy_score(y_test, y_pred, sample_weight=None)\n",
    "        weighted_accuracies.append(weighted_accuracy)\n",
    "\n",
    "        # Print class-wise accuracies for each fold\n",
    "        class_report = classification_report(y_test, y_pred, output_dict=True)\n",
    "        print(f\"\\nFold {i + 1} - Class-wise Accuracies:\")\n",
    "        print(class_report)\n",
    "\n",
    "        print(f\"Fold {i + 1} : {weighted_accuracy}\")\n",
    "\n",
    "    # Calculate the average weighted accuracy\n",
    "    average_weighted_accuracy = np.mean(weighted_accuracies)\n",
    "    print(\"Average Weighted Accuracy:\", average_weighted_accuracy)\n",
    "\n",
    "    return average_weighted_accuracy\n",
    "\n",
    "def feature_selection_select_k_best(X, y, k=15, k_folds=10):\n",
    "    skf = StratifiedKFold(n_splits=k_folds, shuffle=True, random_state=42)\n",
    "\n",
    "    # Initialize SelectKBest with f_classif\n",
    "    k_best = SelectKBest(score_func=f_classif, k=k)\n",
    "\n",
    "    selected_features = []\n",
    "\n",
    "    for train_index, test_index in skf.split(X, y):\n",
    "        X_train, X_test = X.iloc[train_index], X.iloc[test_index]\n",
    "        y_train, y_test = y.iloc[train_index], y.iloc[test_index]\n",
    "\n",
    "        # Fit SelectKBest on the training data\n",
    "        k_best.fit(X_train, y_train)\n",
    "\n",
    "        # Get the indices of the selected features\n",
    "        selected_indices = np.where(k_best.get_support())[0]\n",
    "\n",
    "        # Accumulate selected features across folds\n",
    "        selected_features.extend(selected_indices)\n",
    "\n",
    "    # Get the unique selected features\n",
    "    selected_features = np.unique(selected_features)\n",
    "\n",
    "    # Print and return the top features\n",
    "    top_features = X.columns[selected_features]\n",
    "    print(f\"Top {k} features selected by SelectKBest:\")\n",
    "    print(top_features)\n",
    "\n",
    "    np.savetxt('top_features_SelK.txt', X.columns[selected_features], fmt='%s')\n",
    "\n",
    "\n",
    "    return top_features\n",
    "\n",
    "# Select top features using SelectKBest\n",
    "selected_features_k_best = feature_selection_select_k_best(X, y, k=15, k_folds=10)\n",
    "\n",
    "# Evaluate the selected features using RandomForestClassifier\n",
    "accuracy_k_best = evaluate_features(X, y, selected_features_k_best, RandomForestClassifier(n_estimators=100, n_jobs=-1))\n",
    "print(f\"SelectKBest Accuracy with selected features: {accuracy_k_best}\")\n"
   ]
  },
  {
   "cell_type": "markdown",
   "id": "5bc5ad8d",
   "metadata": {},
   "source": [
    "### Feature Agglomeration"
   ]
  },
  {
   "cell_type": "code",
   "execution_count": 10,
   "id": "22388633",
   "metadata": {},
   "outputs": [
    {
     "name": "stdout",
     "output_type": "stream",
     "text": [
      "Top 100 features selected by Feature Agglomeration:\n",
      "Index(['RERE', 'RNF165', 'PHF7', 'CIDEA', 'TENT2', 'SLC17A3', 'SDS',\n",
      "       'ATP6V1C2', 'F3', 'FAM71C'],\n",
      "      dtype='object')\n"
     ]
    },
    {
     "name": "stderr",
     "output_type": "stream",
     "text": [
      "/opt/anaconda3/lib/python3.9/site-packages/sklearn/metrics/_classification.py:1248: UndefinedMetricWarning: Precision and F-score are ill-defined and being set to 0.0 in labels with no predicted samples. Use `zero_division` parameter to control this behavior.\n",
      "  _warn_prf(average, modifier, msg_start, len(result))\n",
      "/opt/anaconda3/lib/python3.9/site-packages/sklearn/metrics/_classification.py:1248: UndefinedMetricWarning: Precision and F-score are ill-defined and being set to 0.0 in labels with no predicted samples. Use `zero_division` parameter to control this behavior.\n",
      "  _warn_prf(average, modifier, msg_start, len(result))\n",
      "/opt/anaconda3/lib/python3.9/site-packages/sklearn/metrics/_classification.py:1248: UndefinedMetricWarning: Precision and F-score are ill-defined and being set to 0.0 in labels with no predicted samples. Use `zero_division` parameter to control this behavior.\n",
      "  _warn_prf(average, modifier, msg_start, len(result))\n"
     ]
    },
    {
     "name": "stdout",
     "output_type": "stream",
     "text": [
      "\n",
      "Fold 1 - Class-wise Accuracies:\n",
      "{'long': {'precision': 0.868020304568528, 'recall': 1.0, 'f1-score': 0.9293478260869565, 'support': 171}, 'medium': {'precision': 0.0, 'recall': 0.0, 'f1-score': 0.0, 'support': 21}, 'short': {'precision': 0.0, 'recall': 0.0, 'f1-score': 0.0, 'support': 5}, 'accuracy': 0.868020304568528, 'macro avg': {'precision': 0.2893401015228427, 'recall': 0.3333333333333333, 'f1-score': 0.30978260869565216, 'support': 197}, 'weighted avg': {'precision': 0.75345924914324, 'recall': 0.868020304568528, 'f1-score': 0.8066927830500993, 'support': 197}}\n",
      "Fold 1 : 0.868020304568528\n"
     ]
    },
    {
     "name": "stderr",
     "output_type": "stream",
     "text": [
      "/opt/anaconda3/lib/python3.9/site-packages/sklearn/metrics/_classification.py:1248: UndefinedMetricWarning: Precision and F-score are ill-defined and being set to 0.0 in labels with no predicted samples. Use `zero_division` parameter to control this behavior.\n",
      "  _warn_prf(average, modifier, msg_start, len(result))\n",
      "/opt/anaconda3/lib/python3.9/site-packages/sklearn/metrics/_classification.py:1248: UndefinedMetricWarning: Precision and F-score are ill-defined and being set to 0.0 in labels with no predicted samples. Use `zero_division` parameter to control this behavior.\n",
      "  _warn_prf(average, modifier, msg_start, len(result))\n",
      "/opt/anaconda3/lib/python3.9/site-packages/sklearn/metrics/_classification.py:1248: UndefinedMetricWarning: Precision and F-score are ill-defined and being set to 0.0 in labels with no predicted samples. Use `zero_division` parameter to control this behavior.\n",
      "  _warn_prf(average, modifier, msg_start, len(result))\n"
     ]
    },
    {
     "name": "stdout",
     "output_type": "stream",
     "text": [
      "\n",
      "Fold 2 - Class-wise Accuracies:\n",
      "{'long': {'precision': 0.868020304568528, 'recall': 1.0, 'f1-score': 0.9293478260869565, 'support': 171}, 'medium': {'precision': 0.0, 'recall': 0.0, 'f1-score': 0.0, 'support': 21}, 'short': {'precision': 0.0, 'recall': 0.0, 'f1-score': 0.0, 'support': 5}, 'accuracy': 0.868020304568528, 'macro avg': {'precision': 0.2893401015228427, 'recall': 0.3333333333333333, 'f1-score': 0.30978260869565216, 'support': 197}, 'weighted avg': {'precision': 0.75345924914324, 'recall': 0.868020304568528, 'f1-score': 0.8066927830500993, 'support': 197}}\n",
      "Fold 2 : 0.868020304568528\n",
      "\n",
      "Fold 3 - Class-wise Accuracies:\n",
      "{'long': {'precision': 0.868020304568528, 'recall': 1.0, 'f1-score': 0.9293478260869565, 'support': 171}, 'medium': {'precision': 0.0, 'recall': 0.0, 'f1-score': 0.0, 'support': 21}, 'short': {'precision': 0.0, 'recall': 0.0, 'f1-score': 0.0, 'support': 5}, 'accuracy': 0.868020304568528, 'macro avg': {'precision': 0.2893401015228427, 'recall': 0.3333333333333333, 'f1-score': 0.30978260869565216, 'support': 197}, 'weighted avg': {'precision': 0.75345924914324, 'recall': 0.868020304568528, 'f1-score': 0.8066927830500993, 'support': 197}}\n",
      "Fold 3 : 0.868020304568528\n"
     ]
    },
    {
     "name": "stderr",
     "output_type": "stream",
     "text": [
      "/opt/anaconda3/lib/python3.9/site-packages/sklearn/metrics/_classification.py:1248: UndefinedMetricWarning: Precision and F-score are ill-defined and being set to 0.0 in labels with no predicted samples. Use `zero_division` parameter to control this behavior.\n",
      "  _warn_prf(average, modifier, msg_start, len(result))\n",
      "/opt/anaconda3/lib/python3.9/site-packages/sklearn/metrics/_classification.py:1248: UndefinedMetricWarning: Precision and F-score are ill-defined and being set to 0.0 in labels with no predicted samples. Use `zero_division` parameter to control this behavior.\n",
      "  _warn_prf(average, modifier, msg_start, len(result))\n",
      "/opt/anaconda3/lib/python3.9/site-packages/sklearn/metrics/_classification.py:1248: UndefinedMetricWarning: Precision and F-score are ill-defined and being set to 0.0 in labels with no predicted samples. Use `zero_division` parameter to control this behavior.\n",
      "  _warn_prf(average, modifier, msg_start, len(result))\n",
      "/opt/anaconda3/lib/python3.9/site-packages/sklearn/metrics/_classification.py:1248: UndefinedMetricWarning: Precision and F-score are ill-defined and being set to 0.0 in labels with no predicted samples. Use `zero_division` parameter to control this behavior.\n",
      "  _warn_prf(average, modifier, msg_start, len(result))\n",
      "/opt/anaconda3/lib/python3.9/site-packages/sklearn/metrics/_classification.py:1248: UndefinedMetricWarning: Precision and F-score are ill-defined and being set to 0.0 in labels with no predicted samples. Use `zero_division` parameter to control this behavior.\n",
      "  _warn_prf(average, modifier, msg_start, len(result))\n",
      "/opt/anaconda3/lib/python3.9/site-packages/sklearn/metrics/_classification.py:1248: UndefinedMetricWarning: Precision and F-score are ill-defined and being set to 0.0 in labels with no predicted samples. Use `zero_division` parameter to control this behavior.\n",
      "  _warn_prf(average, modifier, msg_start, len(result))\n"
     ]
    },
    {
     "name": "stdout",
     "output_type": "stream",
     "text": [
      "\n",
      "Fold 4 - Class-wise Accuracies:\n",
      "{'long': {'precision': 0.8629441624365483, 'recall': 1.0, 'f1-score': 0.9264305177111716, 'support': 170}, 'medium': {'precision': 0.0, 'recall': 0.0, 'f1-score': 0.0, 'support': 22}, 'short': {'precision': 0.0, 'recall': 0.0, 'f1-score': 0.0, 'support': 5}, 'accuracy': 0.8629441624365483, 'macro avg': {'precision': 0.2876480541455161, 'recall': 0.3333333333333333, 'f1-score': 0.3088101725703905, 'support': 197}, 'weighted avg': {'precision': 0.7446726274833158, 'recall': 0.8629441624365483, 'f1-score': 0.7994578071619247, 'support': 197}}\n",
      "Fold 4 : 0.8629441624365483\n",
      "\n",
      "Fold 5 - Class-wise Accuracies:\n",
      "{'long': {'precision': 0.8673469387755102, 'recall': 1.0, 'f1-score': 0.9289617486338798, 'support': 170}, 'medium': {'precision': 0.0, 'recall': 0.0, 'f1-score': 0.0, 'support': 22}, 'short': {'precision': 0.0, 'recall': 0.0, 'f1-score': 0.0, 'support': 4}, 'accuracy': 0.8673469387755102, 'macro avg': {'precision': 0.2891156462585034, 'recall': 0.3333333333333333, 'f1-score': 0.3096539162112933, 'support': 196}, 'weighted avg': {'precision': 0.7522907122032486, 'recall': 0.8673469387755102, 'f1-score': 0.8057321289171406, 'support': 196}}\n",
      "Fold 5 : 0.8673469387755102\n"
     ]
    },
    {
     "name": "stderr",
     "output_type": "stream",
     "text": [
      "/opt/anaconda3/lib/python3.9/site-packages/sklearn/metrics/_classification.py:1248: UndefinedMetricWarning: Precision and F-score are ill-defined and being set to 0.0 in labels with no predicted samples. Use `zero_division` parameter to control this behavior.\n",
      "  _warn_prf(average, modifier, msg_start, len(result))\n",
      "/opt/anaconda3/lib/python3.9/site-packages/sklearn/metrics/_classification.py:1248: UndefinedMetricWarning: Precision and F-score are ill-defined and being set to 0.0 in labels with no predicted samples. Use `zero_division` parameter to control this behavior.\n",
      "  _warn_prf(average, modifier, msg_start, len(result))\n",
      "/opt/anaconda3/lib/python3.9/site-packages/sklearn/metrics/_classification.py:1248: UndefinedMetricWarning: Precision and F-score are ill-defined and being set to 0.0 in labels with no predicted samples. Use `zero_division` parameter to control this behavior.\n",
      "  _warn_prf(average, modifier, msg_start, len(result))\n",
      "/opt/anaconda3/lib/python3.9/site-packages/sklearn/metrics/_classification.py:1248: UndefinedMetricWarning: Precision and F-score are ill-defined and being set to 0.0 in labels with no predicted samples. Use `zero_division` parameter to control this behavior.\n",
      "  _warn_prf(average, modifier, msg_start, len(result))\n",
      "/opt/anaconda3/lib/python3.9/site-packages/sklearn/metrics/_classification.py:1248: UndefinedMetricWarning: Precision and F-score are ill-defined and being set to 0.0 in labels with no predicted samples. Use `zero_division` parameter to control this behavior.\n",
      "  _warn_prf(average, modifier, msg_start, len(result))\n",
      "/opt/anaconda3/lib/python3.9/site-packages/sklearn/metrics/_classification.py:1248: UndefinedMetricWarning: Precision and F-score are ill-defined and being set to 0.0 in labels with no predicted samples. Use `zero_division` parameter to control this behavior.\n",
      "  _warn_prf(average, modifier, msg_start, len(result))\n"
     ]
    },
    {
     "name": "stdout",
     "output_type": "stream",
     "text": [
      "\n",
      "Fold 6 - Class-wise Accuracies:\n",
      "{'long': {'precision': 0.8666666666666667, 'recall': 0.9941176470588236, 'f1-score': 0.9260273972602739, 'support': 170}, 'medium': {'precision': 0.0, 'recall': 0.0, 'f1-score': 0.0, 'support': 22}, 'short': {'precision': 0.0, 'recall': 0.0, 'f1-score': 0.0, 'support': 4}, 'accuracy': 0.8622448979591837, 'macro avg': {'precision': 0.2888888888888889, 'recall': 0.33137254901960783, 'f1-score': 0.30867579908675796, 'support': 196}, 'weighted avg': {'precision': 0.7517006802721089, 'recall': 0.8622448979591837, 'f1-score': 0.8031870282359519, 'support': 196}}\n",
      "Fold 6 : 0.8622448979591837\n"
     ]
    },
    {
     "name": "stderr",
     "output_type": "stream",
     "text": [
      "/opt/anaconda3/lib/python3.9/site-packages/sklearn/metrics/_classification.py:1248: UndefinedMetricWarning: Precision and F-score are ill-defined and being set to 0.0 in labels with no predicted samples. Use `zero_division` parameter to control this behavior.\n",
      "  _warn_prf(average, modifier, msg_start, len(result))\n",
      "/opt/anaconda3/lib/python3.9/site-packages/sklearn/metrics/_classification.py:1248: UndefinedMetricWarning: Precision and F-score are ill-defined and being set to 0.0 in labels with no predicted samples. Use `zero_division` parameter to control this behavior.\n",
      "  _warn_prf(average, modifier, msg_start, len(result))\n",
      "/opt/anaconda3/lib/python3.9/site-packages/sklearn/metrics/_classification.py:1248: UndefinedMetricWarning: Precision and F-score are ill-defined and being set to 0.0 in labels with no predicted samples. Use `zero_division` parameter to control this behavior.\n",
      "  _warn_prf(average, modifier, msg_start, len(result))\n"
     ]
    },
    {
     "name": "stdout",
     "output_type": "stream",
     "text": [
      "\n",
      "Fold 7 - Class-wise Accuracies:\n",
      "{'long': {'precision': 0.8673469387755102, 'recall': 1.0, 'f1-score': 0.9289617486338798, 'support': 170}, 'medium': {'precision': 0.0, 'recall': 0.0, 'f1-score': 0.0, 'support': 22}, 'short': {'precision': 0.0, 'recall': 0.0, 'f1-score': 0.0, 'support': 4}, 'accuracy': 0.8673469387755102, 'macro avg': {'precision': 0.2891156462585034, 'recall': 0.3333333333333333, 'f1-score': 0.3096539162112933, 'support': 196}, 'weighted avg': {'precision': 0.7522907122032486, 'recall': 0.8673469387755102, 'f1-score': 0.8057321289171406, 'support': 196}}\n",
      "Fold 7 : 0.8673469387755102\n"
     ]
    },
    {
     "name": "stderr",
     "output_type": "stream",
     "text": [
      "/opt/anaconda3/lib/python3.9/site-packages/sklearn/metrics/_classification.py:1248: UndefinedMetricWarning: Precision and F-score are ill-defined and being set to 0.0 in labels with no predicted samples. Use `zero_division` parameter to control this behavior.\n",
      "  _warn_prf(average, modifier, msg_start, len(result))\n",
      "/opt/anaconda3/lib/python3.9/site-packages/sklearn/metrics/_classification.py:1248: UndefinedMetricWarning: Precision and F-score are ill-defined and being set to 0.0 in labels with no predicted samples. Use `zero_division` parameter to control this behavior.\n",
      "  _warn_prf(average, modifier, msg_start, len(result))\n",
      "/opt/anaconda3/lib/python3.9/site-packages/sklearn/metrics/_classification.py:1248: UndefinedMetricWarning: Precision and F-score are ill-defined and being set to 0.0 in labels with no predicted samples. Use `zero_division` parameter to control this behavior.\n",
      "  _warn_prf(average, modifier, msg_start, len(result))\n"
     ]
    },
    {
     "name": "stdout",
     "output_type": "stream",
     "text": [
      "\n",
      "Fold 8 - Class-wise Accuracies:\n",
      "{'long': {'precision': 0.8673469387755102, 'recall': 1.0, 'f1-score': 0.9289617486338798, 'support': 170}, 'medium': {'precision': 0.0, 'recall': 0.0, 'f1-score': 0.0, 'support': 22}, 'short': {'precision': 0.0, 'recall': 0.0, 'f1-score': 0.0, 'support': 4}, 'accuracy': 0.8673469387755102, 'macro avg': {'precision': 0.2891156462585034, 'recall': 0.3333333333333333, 'f1-score': 0.3096539162112933, 'support': 196}, 'weighted avg': {'precision': 0.7522907122032486, 'recall': 0.8673469387755102, 'f1-score': 0.8057321289171406, 'support': 196}}\n",
      "Fold 8 : 0.8673469387755102\n"
     ]
    },
    {
     "name": "stderr",
     "output_type": "stream",
     "text": [
      "/opt/anaconda3/lib/python3.9/site-packages/sklearn/metrics/_classification.py:1248: UndefinedMetricWarning: Precision and F-score are ill-defined and being set to 0.0 in labels with no predicted samples. Use `zero_division` parameter to control this behavior.\n",
      "  _warn_prf(average, modifier, msg_start, len(result))\n",
      "/opt/anaconda3/lib/python3.9/site-packages/sklearn/metrics/_classification.py:1248: UndefinedMetricWarning: Precision and F-score are ill-defined and being set to 0.0 in labels with no predicted samples. Use `zero_division` parameter to control this behavior.\n",
      "  _warn_prf(average, modifier, msg_start, len(result))\n",
      "/opt/anaconda3/lib/python3.9/site-packages/sklearn/metrics/_classification.py:1248: UndefinedMetricWarning: Precision and F-score are ill-defined and being set to 0.0 in labels with no predicted samples. Use `zero_division` parameter to control this behavior.\n",
      "  _warn_prf(average, modifier, msg_start, len(result))\n"
     ]
    },
    {
     "name": "stdout",
     "output_type": "stream",
     "text": [
      "\n",
      "Fold 9 - Class-wise Accuracies:\n",
      "{'long': {'precision': 0.8673469387755102, 'recall': 1.0, 'f1-score': 0.9289617486338798, 'support': 170}, 'medium': {'precision': 0.0, 'recall': 0.0, 'f1-score': 0.0, 'support': 22}, 'short': {'precision': 0.0, 'recall': 0.0, 'f1-score': 0.0, 'support': 4}, 'accuracy': 0.8673469387755102, 'macro avg': {'precision': 0.2891156462585034, 'recall': 0.3333333333333333, 'f1-score': 0.3096539162112933, 'support': 196}, 'weighted avg': {'precision': 0.7522907122032486, 'recall': 0.8673469387755102, 'f1-score': 0.8057321289171406, 'support': 196}}\n",
      "Fold 9 : 0.8673469387755102\n",
      "\n",
      "Fold 10 - Class-wise Accuracies:\n",
      "{'long': {'precision': 0.8711340206185567, 'recall': 0.9941176470588236, 'f1-score': 0.9285714285714286, 'support': 170}, 'medium': {'precision': 0.5, 'recall': 0.047619047619047616, 'f1-score': 0.08695652173913042, 'support': 21}, 'short': {'precision': 0.0, 'recall': 0.0, 'f1-score': 0.0, 'support': 5}, 'accuracy': 0.8673469387755102, 'macro avg': {'precision': 0.4570446735395189, 'recall': 0.34724556489262376, 'f1-score': 0.3385093167701863, 'support': 196}, 'weighted avg': {'precision': 0.809146854618136, 'recall': 0.8673469387755102, 'f1-score': 0.8147103561921664, 'support': 196}}\n",
      "Fold 10 : 0.8673469387755102\n",
      "Average Weighted Accuracy: 0.8665984667978867\n",
      "Feature Agglomeration Accuracy with selected features: 0.8665984667978867\n"
     ]
    },
    {
     "name": "stderr",
     "output_type": "stream",
     "text": [
      "/opt/anaconda3/lib/python3.9/site-packages/sklearn/metrics/_classification.py:1248: UndefinedMetricWarning: Precision and F-score are ill-defined and being set to 0.0 in labels with no predicted samples. Use `zero_division` parameter to control this behavior.\n",
      "  _warn_prf(average, modifier, msg_start, len(result))\n",
      "/opt/anaconda3/lib/python3.9/site-packages/sklearn/metrics/_classification.py:1248: UndefinedMetricWarning: Precision and F-score are ill-defined and being set to 0.0 in labels with no predicted samples. Use `zero_division` parameter to control this behavior.\n",
      "  _warn_prf(average, modifier, msg_start, len(result))\n",
      "/opt/anaconda3/lib/python3.9/site-packages/sklearn/metrics/_classification.py:1248: UndefinedMetricWarning: Precision and F-score are ill-defined and being set to 0.0 in labels with no predicted samples. Use `zero_division` parameter to control this behavior.\n",
      "  _warn_prf(average, modifier, msg_start, len(result))\n"
     ]
    }
   ],
   "source": [
    "import pandas as pd\n",
    "import numpy as np\n",
    "from sklearn.model_selection import StratifiedKFold\n",
    "from sklearn.ensemble import RandomForestClassifier\n",
    "from sklearn.metrics import accuracy_score, classification_report\n",
    "from sklearn.cluster import FeatureAgglomeration\n",
    "\n",
    "# Read your data\n",
    "df = pd.read_csv('processed_mrna_zscore.csv')\n",
    "X = df.iloc[:, :-2]\n",
    "y = df.iloc[:, -1]\n",
    "\n",
    "def evaluate_features(X, y, selected_features, classifier, k_folds=10):\n",
    "    skf = StratifiedKFold(n_splits=k_folds, shuffle=True, random_state=42)\n",
    "\n",
    "    weighted_accuracies = []\n",
    "\n",
    "    for i, (train_index, test_index) in enumerate(skf.split(X, y)):\n",
    "        X_train, X_test = X.iloc[train_index], X.iloc[test_index]\n",
    "        y_train, y_test = y.iloc[train_index], y.iloc[test_index]\n",
    "\n",
    "        # Train the classifier on the selected features\n",
    "        classifier.fit(X_train[selected_features], y_train)\n",
    "\n",
    "        # Make predictions on the test set\n",
    "        y_pred = classifier.predict(X_test[selected_features])\n",
    "\n",
    "        # Calculate and store the weighted accuracy\n",
    "        weighted_accuracy = accuracy_score(y_test, y_pred, sample_weight=None)\n",
    "        weighted_accuracies.append(weighted_accuracy)\n",
    "\n",
    "        # Print class-wise accuracies for each fold\n",
    "        class_report = classification_report(y_test, y_pred, output_dict=True)\n",
    "        print(f\"\\nFold {i + 1} - Class-wise Accuracies:\")\n",
    "        print(class_report)\n",
    "\n",
    "        print(f\"Fold {i + 1} : {weighted_accuracy}\")\n",
    "\n",
    "    # Calculate the average weighted accuracy\n",
    "    average_weighted_accuracy = np.mean(weighted_accuracies)\n",
    "    print(\"Average Weighted Accuracy:\", average_weighted_accuracy)\n",
    "\n",
    "    return average_weighted_accuracy\n",
    "\n",
    "def feature_selection_feature_agglomeration(X, y, n_clusters=10, top_n=10, k_folds=10):\n",
    "    skf = StratifiedKFold(n_splits=k_folds, shuffle=True, random_state=42)\n",
    "\n",
    "    # Initialize FeatureAgglomeration\n",
    "    agglo = FeatureAgglomeration(n_clusters=n_clusters)\n",
    "\n",
    "    selected_features = []\n",
    "\n",
    "    for train_index, test_index in skf.split(X, y):\n",
    "        X_train, X_test = X.iloc[train_index], X.iloc[test_index]\n",
    "        y_train, y_test = y.iloc[train_index], y.iloc[test_index]\n",
    "\n",
    "        # Fit FeatureAgglomeration on the training data\n",
    "        X_train_transformed = agglo.fit_transform(X_train)\n",
    "        X_test_transformed = agglo.transform(X_test)\n",
    "\n",
    "        # Get the indices of the top N features\n",
    "        top_n_indices = np.argsort(np.var(X_train_transformed, axis=0))[-top_n:]\n",
    "\n",
    "        # Accumulate selected features across folds\n",
    "        selected_features.extend(top_n_indices)\n",
    "\n",
    "    # Get the unique selected features\n",
    "    selected_features = np.unique(selected_features)\n",
    "\n",
    "    \n",
    "    # Print and return the top features\n",
    "    top_features = X.columns[selected_features]\n",
    "    print(f\"Top {top_n} features selected by Feature Agglomeration:\")\n",
    "    print(top_features)\n",
    "\n",
    "    np.savetxt('top_features_aggl.txt', X.columns[selected_features], fmt='%s')\n",
    "\n",
    "    return top_features\n",
    "\n",
    "# Select top features using Feature Agglomeration\n",
    "selected_features_agglo = feature_selection_feature_agglomeration(X, y, n_clusters=10, top_n=10, k_folds=10)\n",
    "\n",
    "# Evaluate the selected features using RandomForestClassifier\n",
    "accuracy_agglo = evaluate_features(X, y, selected_features_agglo, RandomForestClassifier(n_estimators=100, n_jobs=-1))\n",
    "print(f\"Feature Agglomeration Accuracy with selected features: {accuracy_agglo}\")\n"
   ]
  },
  {
   "cell_type": "code",
   "execution_count": null,
   "id": "b50f02c4",
   "metadata": {},
   "outputs": [],
   "source": []
  }
 ],
 "metadata": {
  "kernelspec": {
   "display_name": "Python 3 (ipykernel)",
   "language": "python",
   "name": "python3"
  },
  "language_info": {
   "codemirror_mode": {
    "name": "ipython",
    "version": 3
   },
   "file_extension": ".py",
   "mimetype": "text/x-python",
   "name": "python",
   "nbconvert_exporter": "python",
   "pygments_lexer": "ipython3",
   "version": "3.9.7"
  }
 },
 "nbformat": 4,
 "nbformat_minor": 5
}
