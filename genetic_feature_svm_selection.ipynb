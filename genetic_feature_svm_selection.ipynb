{
 "cells": [
  {
   "cell_type": "code",
   "execution_count": null,
   "metadata": {},
   "outputs": [],
   "source": [
    "%pip install deap"
   ]
  },
  {
   "cell_type": "code",
   "execution_count": 1,
   "metadata": {},
   "outputs": [],
   "source": [
    "import pandas as pd\n",
    "import numpy as np\n",
    "np.random.seed(42)\n",
    "\n",
    "df = pd.read_csv('./data/processed_mrna_zscore.csv')"
   ]
  },
  {
   "cell_type": "code",
   "execution_count": 2,
   "metadata": {},
   "outputs": [],
   "source": [
    "X = df.iloc[:, :-2]\n",
    "y = df.iloc[:, -1]"
   ]
  },
  {
   "cell_type": "markdown",
   "metadata": {},
   "source": [
    "Select 500 features by filtering methods."
   ]
  },
  {
   "cell_type": "code",
   "execution_count": 3,
   "metadata": {},
   "outputs": [],
   "source": [
    "file_path = './top_features_rf_500.txt'\n",
    "\n",
    "with open(file_path, 'r') as file:\n",
    "    content = file.read().splitlines()\n",
    "top500 = content"
   ]
  },
  {
   "cell_type": "markdown",
   "metadata": {},
   "source": [
    "The search space is now in 500 top features selected by a filtering methods"
   ]
  },
  {
   "cell_type": "code",
   "execution_count": 4,
   "metadata": {},
   "outputs": [],
   "source": [
    "target_n = 50"
   ]
  },
  {
   "cell_type": "code",
   "execution_count": 5,
   "metadata": {},
   "outputs": [],
   "source": [
    "import random\n",
    "import numpy as np\n",
    "from sklearn.metrics import accuracy_score\n",
    "import matplotlib.pyplot as plt\n",
    "from deap import base, creator, tools, algorithms\n",
    "from sklearn.model_selection import StratifiedKFold\n",
    "# Assuming X and y are your feature matrix and target variable\n",
    "# X is a pandas DataFrame with 1800 samples and 500 features\n",
    "# y is a pandas Series with the corresponding labels\n",
    "\n",
    "# DEAP initialization\n",
    "creator.create(\"FitnessMax\", base.Fitness, weights=(1.0,))\n",
    "creator.create(\"Individual\", list, fitness=creator.FitnessMax)\n",
    "\n",
    "# Function to create an individual (binary representation of features)\n",
    "def create_individual():\n",
    "    return np.random.choice(top500, size=target_n, replace=False)\n",
    "\n",
    "def mutate(individual, indpb):\n",
    "    for i in range(len(individual)):\n",
    "        if random.random() < indpb:\n",
    "            remain = [feat for feat in top500 if feat not in individual]\n",
    "            individual[i] = np.random.choice(remain)\n",
    "\n",
    "    return individual,\n",
    "# DEAP Toolbox\n",
    "toolbox = base.Toolbox()\n",
    "toolbox.register(\"individual\", tools.initIterate, creator.Individual, create_individual)\n",
    "toolbox.register(\"population\", tools.initRepeat, list, toolbox.individual)\n",
    "toolbox.register(\"mate\", tools.cxTwoPoint)\n",
    "toolbox.register(\"mutate\", mutate, indpb=0.05)\n",
    "toolbox.register(\"select\", tools.selTournament, tournsize=3)"
   ]
  },
  {
   "cell_type": "markdown",
   "metadata": {},
   "source": [
    "Genetic algorithm settings"
   ]
  },
  {
   "cell_type": "code",
   "execution_count": 6,
   "metadata": {},
   "outputs": [],
   "source": [
    "population_size = 50\n",
    "generations = 20\n",
    "crossover_rate = 0.8\n",
    "mutation_rate = 0.1"
   ]
  },
  {
   "cell_type": "code",
   "execution_count": 7,
   "metadata": {},
   "outputs": [],
   "source": [
    "def execuate_ga(clf):\n",
    "    # Collect fitness values for plotting\n",
    "    mean_fitness_values = []\n",
    "\n",
    "    population = toolbox.population(n=population_size)\n",
    "\n",
    "    for gen in range(generations):\n",
    "        # Evaluate the entire population\n",
    "        fitness_values = list(toolbox.map(toolbox.evaluate, population))\n",
    "        \n",
    "        # Update the fitness values\n",
    "        for ind, fit in zip(population, fitness_values):\n",
    "            ind.fitness.values = fit\n",
    "        \n",
    "        # Select the next generation individuals\n",
    "        offspring = algorithms.varAnd(population, toolbox, cxpb=crossover_rate, mutpb=mutation_rate)\n",
    "        \n",
    "        # Evaluate offspring\n",
    "        fitness_values = list(toolbox.map(toolbox.evaluate, offspring))\n",
    "        for ind, fit in zip(offspring, fitness_values):\n",
    "            ind.fitness.values = fit\n",
    "        \n",
    "        # Select the next generation from offspring\n",
    "        population = toolbox.select(offspring + population, k=population_size)\n",
    "        \n",
    "        # Collect the highest fitness value for this generation\n",
    "        mean_fitness = np.array([ind.fitness.values[0] for ind in population]).mean()\n",
    "        mean_fitness_values.append(mean_fitness)\n",
    "\n",
    "        # Print the highest fitness value for this generation\n",
    "        print(f\"Generation {gen + 1}: Mean Fitness = {mean_fitness}\")\n",
    "\n",
    "    \n",
    "    # Plotting\n",
    "    plt.plot(range(1, generations + 1), mean_fitness_values, marker='o')\n",
    "    plt.xlabel('Generation')\n",
    "    plt.ylabel('Mean Fitness Value')\n",
    "    plt.title('Evolution of Highest Fitness Value')\n",
    "    plt.show()\n",
    "\n",
    "    # Get the best individual from the final population\n",
    "    best_individual = tools.selBest(population, k=1)[0]\n",
    "\n",
    "\n",
    "    np.savetxt(f'top_features_gen_{clf}.txt', best_individual, fmt='%s')\n",
    "\n",
    "    print(\"Best individual:\", best_individual)\n",
    "\n",
    "    return mean_fitness_values"
   ]
  },
  {
   "cell_type": "markdown",
   "metadata": {},
   "source": [
    "SVM"
   ]
  },
  {
   "cell_type": "code",
   "execution_count": 14,
   "metadata": {},
   "outputs": [],
   "source": [
    "from sklearn.svm import LinearSVC\n",
    "from imblearn.over_sampling import SMOTE\n",
    "smote = SMOTE(random_state=42)\n",
    "\n",
    "# Function to evaluate the fitness of an individual\n",
    "def evaluate_individual_svm(individual):\n",
    "    selected_features = individual\n",
    "    # print('selected_features: ', selected_features)\n",
    "    \n",
    "    if not selected_features:\n",
    "        return 0.0,  # Avoid all-zero individuals\n",
    "    \n",
    "    clf = LinearSVC(random_state=42, dual='auto')\n",
    "    skf = StratifiedKFold(n_splits=10, shuffle=True, random_state=42)\n",
    "    accuracies = []\n",
    "    sel_X = X[selected_features]\n",
    "    for train_index, test_index in skf.split(sel_X, y):\n",
    "        X_train, X_test = sel_X.iloc[train_index], sel_X.iloc[test_index]\n",
    "        y_train, y_test = y.iloc[train_index], y.iloc[test_index]\n",
    "        X_resampled, y_resampled = smote.fit_resample(X_train, y_train)\n",
    "        clf.fit(X_resampled, y_resampled)\n",
    "        y_pred = clf.predict(X_test)\n",
    "\n",
    "        accuracy = accuracy_score(y_test, y_pred)\n",
    "        accuracies.append(accuracy)\n",
    "\n",
    "    average_accuracy = np.mean(accuracies)\n",
    "    return average_accuracy,"
   ]
  },
  {
   "cell_type": "code",
   "execution_count": 15,
   "metadata": {},
   "outputs": [
    {
     "name": "stdout",
     "output_type": "stream",
     "text": [
      "Generation 1: Mean Fitness = 0.575787878787879\n",
      "Generation 2: Mean Fitness = 0.5883333333333334\n",
      "Generation 3: Mean Fitness = 0.5993838383838382\n",
      "Generation 4: Mean Fitness = 0.6092222222222222\n",
      "Generation 5: Mean Fitness = 0.6170606060606061\n",
      "Generation 6: Mean Fitness = 0.620090909090909\n",
      "Generation 7: Mean Fitness = 0.6223333333333333\n",
      "Generation 8: Mean Fitness = 0.624919191919192\n",
      "Generation 9: Mean Fitness = 0.6275555555555555\n",
      "Generation 10: Mean Fitness = 0.6311212121212121\n",
      "Generation 11: Mean Fitness = 0.6340606060606061\n",
      "Generation 12: Mean Fitness = 0.6392929292929292\n",
      "Generation 13: Mean Fitness = 0.6428181818181818\n",
      "Generation 14: Mean Fitness = 0.6434343434343434\n",
      "Generation 15: Mean Fitness = 0.6438484848484849\n",
      "Generation 16: Mean Fitness = 0.6444747474747474\n",
      "Generation 17: Mean Fitness = 0.6453636363636365\n",
      "Generation 18: Mean Fitness = 0.6460303030303031\n",
      "Generation 19: Mean Fitness = 0.6467777777777778\n",
      "Generation 20: Mean Fitness = 0.6477272727272728\n"
     ]
    },
    {
     "data": {
      "image/png": "[encoded data removed]",
      "text/plain": [
       "<Figure size 640x480 with 1 Axes>"
      ]
     },
     "metadata": {},
     "output_type": "display_data"
    },
    {
     "name": "stdout",
     "output_type": "stream",
     "text": [
      "Best individual: ['ADCY5', 'TMEM165', 'MCL1', 'KANK1', 'STX1B', 'TBC1D1', 'HDAC5', 'MCL1', 'KRTAP5-3', 'USHBP1', 'HAUS8', 'MAGEC2', 'DGKK', 'SNRPD2', 'COQ7', 'SLC25A5', 'CBWD1', 'SKP2', 'IL6ST', 'DGKK', 'FGA', 'IL6', 'CCDC96', 'SNRPA1', 'LRRC8A', 'SLC41A3', 'ABITRAM', 'MUC19', 'BROX', 'KANK1', 'ANP32AP1', 'GJA5', 'SPDYE2', 'CCDC9B', 'GBA2', 'HMGA1', 'ST8SIA2', 'CCDC170', 'PPP1R14B', 'ANGPT2', 'ADD2', 'S100A7', 'AL137655', 'SRSF10', 'PADI1', 'TIMM13', 'RORB', 'PGAP3', 'UPF2', 'CA9']\n"
     ]
    },
    {
     "data": {
      "text/plain": [
       "[0.575787878787879,\n",
       " 0.5883333333333334,\n",
       " 0.5993838383838382,\n",
       " 0.6092222222222222,\n",
       " 0.6170606060606061,\n",
       " 0.620090909090909,\n",
       " 0.6223333333333333,\n",
       " 0.624919191919192,\n",
       " 0.6275555555555555,\n",
       " 0.6311212121212121,\n",
       " 0.6340606060606061,\n",
       " 0.6392929292929292,\n",
       " 0.6428181818181818,\n",
       " 0.6434343434343434,\n",
       " 0.6438484848484849,\n",
       " 0.6444747474747474,\n",
       " 0.6453636363636365,\n",
       " 0.6460303030303031,\n",
       " 0.6467777777777778,\n",
       " 0.6477272727272728]"
      ]
     },
     "execution_count": 15,
     "metadata": {},
     "output_type": "execute_result"
    }
   ],
   "source": [
    "toolbox.register(\"evaluate\", evaluate_individual_svm)\n",
    "execuate_ga('svm')"
   ]
  },
  {
   "cell_type": "code",
   "execution_count": null,
   "metadata": {},
   "outputs": [],
   "source": [
    "mean_fitness_values = [0.575787878787879,\n",
    " 0.5883333333333334,\n",
    " 0.5993838383838382,\n",
    " 0.6092222222222222,\n",
    " 0.6170606060606061,\n",
    " 0.620090909090909,\n",
    " 0.6223333333333333,\n",
    " 0.624919191919192,\n",
    " 0.6275555555555555,\n",
    " 0.6311212121212121,\n",
    " 0.6340606060606061,\n",
    " 0.6392929292929292,\n",
    " 0.6428181818181818,\n",
    " 0.6434343434343434,\n",
    " 0.6438484848484849,\n",
    " 0.6444747474747474,\n",
    " 0.6453636363636365,\n",
    " 0.6460303030303031,\n",
    " 0.6467777777777778,\n",
    " 0.6477272727272728]\n",
    "\n",
    "plt.plot(range(1, generations + 1), mean_fitness_values, marker='o', color='orange')\n",
    "plt.xlabel('Generation')\n",
    "plt.ylabel('Mean Fitness Value')\n",
    "plt.title('Mean Fitness Value - GA and SVM')\n",
    "plt.show()"
   ]
  }
 ],
 "metadata": {
  "kernelspec": {
   "display_name": "Python 3",
   "language": "python",
   "name": "python3"
  },
  "language_info": {
   "codemirror_mode": {
    "name": "ipython",
    "version": 3
   },
   "file_extension": ".py",
   "mimetype": "text/x-python",
   "name": "python",
   "nbconvert_exporter": "python",
   "pygments_lexer": "ipython3",
   "version": "3.9.6"
  },
  "orig_nbformat": 4
 },
 "nbformat": 4,
 "nbformat_minor": 2
}
