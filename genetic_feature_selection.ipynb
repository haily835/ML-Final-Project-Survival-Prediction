{
 "cells": [
  {
   "cell_type": "code",
   "execution_count": 12,
   "metadata": {},
   "outputs": [
    {
     "name": "stdout",
     "output_type": "stream",
     "text": [
      "Defaulting to user installation because normal site-packages is not writeable\n",
      "Collecting deap\n",
      "  Downloading deap-1.4.1.tar.gz (1.1 MB)\n",
      "\u001b[K     |████████████████████████████████| 1.1 MB 2.9 MB/s eta 0:00:01\n",
      "\u001b[?25hRequirement already satisfied: numpy in /Users/haily/Library/Python/3.9/lib/python/site-packages (from deap) (1.26.0)\n",
      "Building wheels for collected packages: deap\n",
      "  Building wheel for deap (setup.py) ... \u001b[?25ldone\n",
      "\u001b[?25h  Created wheel for deap: filename=deap-1.4.1-cp39-cp39-macosx_10_9_universal2.whl size=111773 sha256=6ead710c75546146f218ef0a60d3da975f9fa1fccf7283f8b51b4aea490394fb\n",
      "  Stored in directory: /Users/haily/Library/Caches/pip/wheels/d9/58/fd/a64ce13f5e2324689e8bc1857c9562d53020d96cc88f5bf787\n",
      "Successfully built deap\n",
      "Installing collected packages: deap\n",
      "Successfully installed deap-1.4.1\n",
      "\u001b[33mWARNING: You are using pip version 21.2.4; however, version 23.3.1 is available.\n",
      "You should consider upgrading via the '/Applications/Xcode.app/Contents/Developer/usr/bin/python3 -m pip install --upgrade pip' command.\u001b[0m\n",
      "Note: you may need to restart the kernel to use updated packages.\n"
     ]
    }
   ],
   "source": [
    "%pip install deap"
   ]
  },
  {
   "cell_type": "code",
   "execution_count": 2,
   "metadata": {},
   "outputs": [],
   "source": [
    "import pandas as pd\n",
    "df = pd.read_csv('./data/processed_mrna_zscore.csv')"
   ]
  },
  {
   "cell_type": "code",
   "execution_count": 3,
   "metadata": {},
   "outputs": [],
   "source": [
    "X = df.iloc[:, :-2]\n",
    "y = df.iloc[:, -1]"
   ]
  },
  {
   "cell_type": "markdown",
   "metadata": {},
   "source": [
    "Select 500 features by filtering methods."
   ]
  },
  {
   "cell_type": "code",
   "execution_count": 8,
   "metadata": {},
   "outputs": [],
   "source": [
    "file_path = './mrmr_top500_feats.txt'\n",
    "\n",
    "# Read the content of the file and split it into lines\n",
    "with open(file_path, 'r') as file:\n",
    "    content = file.read().splitlines()\n",
    "\n",
    "# Convert the content back to an array\n",
    "top500 = content"
   ]
  },
  {
   "cell_type": "markdown",
   "metadata": {},
   "source": [
    "The search space is now in 500 top features selected by a filtering methods"
   ]
  },
  {
   "cell_type": "code",
   "execution_count": 9,
   "metadata": {},
   "outputs": [],
   "source": [
    "sel_X = X[top500]"
   ]
  },
  {
   "cell_type": "code",
   "execution_count": 14,
   "metadata": {},
   "outputs": [
    {
     "name": "stdout",
     "output_type": "stream",
     "text": [
      "gen\tnevals\n",
      "0  \t50    \n",
      "1  \t89    \n",
      "2  \t94    \n",
      "3  \t90    \n",
      "4  \t91    \n",
      "5  \t92    \n",
      "6  \t88    \n",
      "7  \t88    \n",
      "8  \t90    \n",
      "9  \t92    \n",
      "10 \t92    \n",
      "11 \t89    \n",
      "12 \t84    \n",
      "13 \t88    \n",
      "14 \t93    \n",
      "15 \t89    \n",
      "16 \t92    \n",
      "17 \t89    \n",
      "18 \t90    \n",
      "19 \t91    \n",
      "20 \t90    \n",
      "Best individual: [1, 1, 1, 0, 1, 0, 1, 1, 0, 1, 0, 0, 0, 0, 1, 0, 1, 0, 0, 0, 1, 1, 0, 1, 0, 0, 1, 0, 1, 1, 1, 1, 1, 0, 0, 1, 0, 0, 1, 1, 0, 0, 1, 1, 1, 0, 0, 0, 0, 1, 0, 0, 1, 0, 0, 1, 1, 1, 1, 0, 0, 0, 0, 1, 0, 1, 0, 1, 1, 1, 1, 1, 0, 1, 1, 0, 1, 1, 0, 0, 1, 1, 1, 0, 1, 0, 0, 0, 1, 0, 1, 0, 1, 0, 0, 1, 1, 0, 1, 1, 0, 0, 1, 0, 1, 1, 0, 1, 1, 0, 1, 1, 1, 1, 0, 0, 1, 0, 0, 1, 0, 1, 1, 1, 0, 1, 0, 1, 0, 1, 0, 1, 1, 1, 1, 1, 0, 1, 1, 0, 1, 0, 0, 1, 1, 1, 1, 1, 0, 1, 1, 0, 1, 0, 0, 0, 0, 0, 1, 1, 1, 1, 1, 0, 1, 1, 1, 1, 1, 0, 1, 0, 1, 0, 0, 0, 0, 1, 1, 0, 0, 1, 0, 0, 0, 0, 0, 1, 0, 1, 0, 0, 1, 1, 1, 1, 1, 1, 0, 0, 1, 1, 1, 1, 1, 1, 1, 1, 0, 1, 0, 1, 1, 0, 1, 0, 0, 1, 0, 1, 1, 1, 0, 1, 0, 1, 0, 1, 1, 0, 0, 0, 0, 1, 1, 1, 0, 0, 0, 0, 1, 1, 1, 0, 1, 1, 0, 1, 0, 1, 1, 1, 0, 1, 0, 0, 1, 0, 1, 1, 0, 0, 0, 1, 1, 1, 0, 1, 0, 0, 0, 0, 1, 0, 1, 0, 0, 1, 1, 0, 0, 1, 0, 1, 0, 1, 1, 0, 1, 1, 1, 0, 0, 1, 1, 1, 1, 1, 0, 1, 0, 0, 0, 1, 0, 0, 0, 0, 0, 0, 0, 1, 0, 1, 1, 1, 1, 0, 0, 0, 0, 1, 1, 1, 1, 0, 1, 1, 1, 1, 1, 0, 1, 0, 0, 1, 1, 1, 1, 0, 1, 1, 0, 0, 0, 0, 1, 1, 1, 0, 0, 1, 0, 1, 1, 0, 1, 0, 0, 1, 0, 0, 0, 0, 1, 0, 0, 1, 0, 1, 1, 0, 1, 0, 1, 0, 0, 1, 0, 0, 1, 1, 0, 1, 1, 1, 0, 0, 0, 0, 1, 1, 0, 0, 0, 0, 0, 1, 1, 1, 1, 0, 0, 1, 1, 1, 1, 1, 1, 0, 0, 0, 1, 1, 1, 0, 0, 1, 1, 0, 1, 1, 0, 0, 0, 0, 0, 0, 1, 0, 0, 0, 1, 0, 1, 0, 1, 0, 0, 0, 0, 0, 0, 0, 0, 1, 1, 1, 1, 1, 1, 1, 0, 1, 1, 0, 0, 1, 1, 1, 1, 0, 0, 0, 0, 1, 0, 0, 0, 0, 0, 1, 0, 0, 0, 0, 0, 1, 1, 1, 0, 1, 1, 1, 0, 0, 1, 0, 1, 0, 0, 0, 0, 1, 1, 0, 1, 0, 0, 1]\n",
      "Selected features: [0, 1, 2, 4, 6, 7, 9, 14, 16, 20, 21, 23, 26, 28, 29, 30, 31, 32, 35, 38, 39, 42, 43, 44, 49, 52, 55, 56, 57, 58, 63, 65, 67, 68, 69, 70, 71, 73, 74, 76, 77, 80, 81, 82, 84, 88, 90, 92, 95, 96, 98, 99, 102, 104, 105, 107, 108, 110, 111, 112, 113, 116, 119, 121, 122, 123, 125, 127, 129, 131, 132, 133, 134, 135, 137, 138, 140, 143, 144, 145, 146, 147, 149, 150, 152, 158, 159, 160, 161, 162, 164, 165, 166, 167, 168, 170, 172, 177, 178, 181, 187, 189, 192, 193, 194, 195, 196, 197, 200, 201, 202, 203, 204, 205, 206, 207, 209, 211, 212, 214, 217, 219, 220, 221, 223, 225, 227, 228, 233, 234, 235, 240, 241, 242, 244, 245, 247, 249, 250, 251, 253, 256, 258, 259, 263, 264, 265, 267, 272, 274, 277, 278, 281, 283, 285, 286, 288, 289, 290, 293, 294, 295, 296, 297, 299, 303, 311, 313, 314, 315, 316, 321, 322, 323, 324, 326, 327, 328, 329, 330, 332, 335, 336, 337, 338, 340, 341, 346, 347, 348, 351, 353, 354, 356, 359, 364, 367, 369, 370, 372, 374, 377, 380, 381, 383, 384, 385, 390, 391, 397, 398, 399, 400, 403, 404, 405, 406, 407, 408, 412, 413, 414, 417, 418, 420, 421, 428, 432, 434, 436, 445, 446, 447, 448, 449, 450, 451, 453, 454, 457, 458, 459, 460, 465, 471, 477, 478, 479, 481, 482, 483, 486, 488, 493, 494, 496, 499]\n"
     ]
    }
   ],
   "source": [
    "import random\n",
    "import numpy as np\n",
    "from sklearn.ensemble import RandomForestClassifier\n",
    "from sklearn.metrics import accuracy_score\n",
    "from deap import base, creator, tools, algorithms\n",
    "\n",
    "# Assuming X and y are your feature matrix and target variable\n",
    "# X is a pandas DataFrame with 1800 samples and 500 features\n",
    "# y is a pandas Series with the corresponding labels\n",
    "\n",
    "# DEAP initialization\n",
    "creator.create(\"FitnessMax\", base.Fitness, weights=(1.0,))\n",
    "creator.create(\"Individual\", list, fitness=creator.FitnessMax)\n",
    "\n",
    "# Function to create an individual (binary representation of features)\n",
    "def create_individual():\n",
    "    return [random.randint(0, 1) for _ in range(sel_X.shape[1])]\n",
    "\n",
    "# Function to evaluate the fitness of an individual\n",
    "def evaluate_individual(individual):\n",
    "    selected_features = [i for i, gene in enumerate(individual) if gene]\n",
    "    if not selected_features:\n",
    "        return 0.0,  # Avoid all-zero individuals\n",
    "    clf = RandomForestClassifier(random_state=42)\n",
    "    clf.fit(sel_X.iloc[:, selected_features], y)\n",
    "    y_pred = clf.predict(sel_X.iloc[:, selected_features])\n",
    "    accuracy = accuracy_score(y, y_pred)\n",
    "    return accuracy,\n",
    "\n",
    "# DEAP Toolbox\n",
    "toolbox = base.Toolbox()\n",
    "toolbox.register(\"individual\", tools.initIterate, creator.Individual, create_individual)\n",
    "toolbox.register(\"population\", tools.initRepeat, list, toolbox.individual)\n",
    "toolbox.register(\"evaluate\", evaluate_individual)\n",
    "toolbox.register(\"mate\", tools.cxTwoPoint)\n",
    "toolbox.register(\"mutate\", tools.mutFlipBit, indpb=0.05)\n",
    "toolbox.register(\"select\", tools.selTournament, tournsize=3)\n",
    "\n",
    "population_size = 50\n",
    "generations = 20\n",
    "crossover_rate = 0.8\n",
    "mutation_rate = 0.1\n",
    "\n",
    "population = toolbox.population(n=population_size)\n",
    "algorithms.eaMuPlusLambda(population, toolbox, mu=population_size, lambda_=2*population_size,\n",
    "                            cxpb=crossover_rate, mutpb=mutation_rate, ngen=generations,\n",
    "                            stats=None, halloffame=None, verbose=True)\n",
    "\n",
    "# Get the best individual from the final population\n",
    "best_individual = tools.selBest(population, k=1)[0]\n",
    "selected_features = [i for i, gene in enumerate(best_individual) if gene]\n",
    "\n",
    "print(\"Best individual:\", best_individual)\n",
    "print(\"Selected features:\", selected_features)\n"
   ]
  },
  {
   "cell_type": "code",
   "execution_count": 16,
   "metadata": {},
   "outputs": [],
   "source": [
    "genetic_features = X.columns[selected_features]"
   ]
  },
  {
   "cell_type": "code",
   "execution_count": 17,
   "metadata": {},
   "outputs": [
    {
     "name": "stdout",
     "output_type": "stream",
     "text": [
      "Fold 1: 0.868020304568528\n",
      "Fold 2: 0.8629441624365483\n",
      "Fold 3: 0.868020304568528\n",
      "Fold 4: 0.8578680203045685\n",
      "Fold 5: 0.8673469387755102\n",
      "Fold 6: 0.8673469387755102\n",
      "Fold 7: 0.8673469387755102\n",
      "Fold 8: 0.8571428571428571\n",
      "Fold 9: 0.8673469387755102\n",
      "Fold 10: 0.8673469387755102\n",
      "Average Weighted Accuracy: 0.865073034289858\n"
     ]
    },
    {
     "data": {
      "text/plain": [
       "0.865073034289858"
      ]
     },
     "execution_count": 17,
     "metadata": {},
     "output_type": "execute_result"
    }
   ],
   "source": [
    "from sklearn.ensemble import RandomForestClassifier\n",
    "from k_fold import k_fold\n",
    "\n",
    "k_fold(classifier=RandomForestClassifier(n_estimators=1000, n_jobs=-1), \n",
    "                X=X[genetic_features], y=y)"
   ]
  }
 ],
 "metadata": {
  "kernelspec": {
   "display_name": "Python 3",
   "language": "python",
   "name": "python3"
  },
  "language_info": {
   "codemirror_mode": {
    "name": "ipython",
    "version": 3
   },
   "file_extension": ".py",
   "mimetype": "text/x-python",
   "name": "python",
   "nbconvert_exporter": "python",
   "pygments_lexer": "ipython3",
   "version": "3.9.6"
  },
  "orig_nbformat": 4
 },
 "nbformat": 4,
 "nbformat_minor": 2
}
