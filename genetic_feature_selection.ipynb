{
 "cells": [
  {
   "cell_type": "code",
   "execution_count": 11,
   "metadata": {},
   "outputs": [
    {
     "name": "stdout",
     "output_type": "stream",
     "text": [
      "Defaulting to user installation because normal site-packages is not writeable\n",
      "Requirement already satisfied: deap in /Users/haily/Library/Python/3.9/lib/python/site-packages (1.4.1)\n",
      "Requirement already satisfied: numpy in /Users/haily/Library/Python/3.9/lib/python/site-packages (from deap) (1.26.0)\n",
      "\u001b[33mWARNING: You are using pip version 21.2.4; however, version 23.3.1 is available.\n",
      "You should consider upgrading via the '/Applications/Xcode.app/Contents/Developer/usr/bin/python3 -m pip install --upgrade pip' command.\u001b[0m\n",
      "Note: you may need to restart the kernel to use updated packages.\n"
     ]
    }
   ],
   "source": [
    "%pip install deap"
   ]
  },
  {
   "cell_type": "code",
   "execution_count": 1,
   "metadata": {},
   "outputs": [],
   "source": [
    "import pandas as pd\n",
    "df = pd.read_csv('./data/processed_mrna_zscore.csv')"
   ]
  },
  {
   "cell_type": "code",
   "execution_count": 2,
   "metadata": {},
   "outputs": [],
   "source": [
    "X = df.iloc[:, :-2]\n",
    "y = df.iloc[:, -1]"
   ]
  },
  {
   "cell_type": "markdown",
   "metadata": {},
   "source": [
    "Select 500 features by filtering methods."
   ]
  },
  {
   "cell_type": "code",
   "execution_count": 3,
   "metadata": {},
   "outputs": [],
   "source": [
    "file_path = './top_features_rf_500.txt'\n",
    "\n",
    "with open(file_path, 'r') as file:\n",
    "    content = file.read().splitlines()\n",
    "\n",
    "top500 = content"
   ]
  },
  {
   "cell_type": "markdown",
   "metadata": {},
   "source": [
    "The search space is now in 500 top features selected by a filtering methods"
   ]
  },
  {
   "cell_type": "code",
   "execution_count": 4,
   "metadata": {},
   "outputs": [],
   "source": [
    "sel_X = X[top500]"
   ]
  },
  {
   "cell_type": "code",
   "execution_count": 5,
   "metadata": {},
   "outputs": [],
   "source": [
    "import random\n",
    "import numpy as np\n",
    "from sklearn.ensemble import RandomForestClassifier\n",
    "from sklearn.metrics import accuracy_score\n",
    "import matplotlib.pyplot as plt\n",
    "from deap import base, creator, tools, algorithms\n",
    "from sklearn.model_selection import StratifiedKFold\n",
    "# Assuming X and y are your feature matrix and target variable\n",
    "# X is a pandas DataFrame with 1800 samples and 500 features\n",
    "# y is a pandas Series with the corresponding labels\n",
    "\n",
    "# DEAP initialization\n",
    "creator.create(\"FitnessMax\", base.Fitness, weights=(1.0,))\n",
    "creator.create(\"Individual\", list, fitness=creator.FitnessMax)\n",
    "\n",
    "# Function to create an individual (binary representation of features)\n",
    "def create_individual():\n",
    "    n = sel_X.shape[1]\n",
    "    num_ones = 5\n",
    "    return random.sample([1]*num_ones + [0]*(n-num_ones), n)\n",
    "\n",
    "# Function to evaluate the fitness of an individual\n",
    "def evaluate_individual(individual):\n",
    "    selected_features = [i for i, gene in enumerate(individual) if gene]\n",
    "    if not selected_features:\n",
    "        return 0.0,  # Avoid all-zero individuals\n",
    "\n",
    "    \n",
    "    clf = RandomForestClassifier(random_state=42, n_estimators=10, n_jobs=-1)\n",
    "    skf = StratifiedKFold(n_splits=10, shuffle=True, random_state=42)\n",
    "    accuracies = []\n",
    "\n",
    "    for train_index, test_index in skf.split(sel_X, y):\n",
    "        X_train, X_test = sel_X.iloc[train_index, selected_features], sel_X.iloc[test_index, selected_features]\n",
    "        y_train, y_test = y.iloc[train_index], y.iloc[test_index]\n",
    "\n",
    "        clf.fit(X_train, y_train)\n",
    "        y_pred = clf.predict(X_test)\n",
    "\n",
    "        accuracy = accuracy_score(y_test, y_pred)\n",
    "        accuracies.append(accuracy)\n",
    "\n",
    "    average_accuracy = np.mean(accuracies)\n",
    "    return average_accuracy,\n",
    "\n",
    "# DEAP Toolbox\n",
    "toolbox = base.Toolbox()\n",
    "toolbox.register(\"individual\", tools.initIterate, creator.Individual, create_individual)\n",
    "toolbox.register(\"population\", tools.initRepeat, list, toolbox.individual)\n",
    "toolbox.register(\"evaluate\", evaluate_individual)\n",
    "toolbox.register(\"mate\", tools.cxTwoPoint)\n",
    "toolbox.register(\"mutate\", tools.mutFlipBit, indpb=0.05)\n",
    "toolbox.register(\"select\", tools.selTournament, tournsize=3)\n",
    "\n"
   ]
  },
  {
   "cell_type": "code",
   "execution_count": 6,
   "metadata": {},
   "outputs": [
    {
     "name": "stdout",
     "output_type": "stream",
     "text": [
      "Generation 1: Mean Fitness = 0.858534652439656\n",
      "Generation 2: Mean Fitness = 0.8606547705376566\n",
      "Generation 3: Mean Fitness = 0.8621899409509998\n",
      "Generation 4: Mean Fitness = 0.863410908525847\n",
      "Generation 5: Mean Fitness = 0.8644069201284578\n",
      "Generation 6: Mean Fitness = 0.8653133740805968\n",
      "Generation 7: Mean Fitness = 0.8660360509686109\n",
      "Generation 8: Mean Fitness = 0.8674710970682692\n",
      "Generation 9: Mean Fitness = 0.8676339997928108\n",
      "Generation 10: Mean Fitness = 0.8676746089298666\n",
      "Generation 11: Mean Fitness = 0.8676747125246042\n",
      "Generation 12: Mean Fitness = 0.867735574432819\n",
      "Generation 13: Mean Fitness = 0.8677966435305089\n",
      "Generation 14: Mean Fitness = 0.8680404537449499\n",
      "Generation 15: Mean Fitness = 0.8683038433647572\n",
      "Generation 16: Mean Fitness = 0.8685168859421941\n",
      "Generation 17: Mean Fitness = 0.8685477053765668\n",
      "Generation 18: Mean Fitness = 0.8687827618356988\n",
      "Generation 19: Mean Fitness = 0.8689878794157258\n",
      "Generation 20: Mean Fitness = 0.8691109499637419\n"
     ]
    }
   ],
   "source": [
    "population_size = 50\n",
    "generations = 20\n",
    "crossover_rate = 0.8\n",
    "mutation_rate = 0.1\n",
    "\n",
    "# Collect fitness values for plotting\n",
    "max_fitness_values = []\n",
    "\n",
    "population = toolbox.population(n=population_size)\n",
    "\n",
    "for gen in range(generations):\n",
    "    # Evaluate the entire population\n",
    "    fitness_values = list(toolbox.map(toolbox.evaluate, population))\n",
    "    \n",
    "    # Update the fitness values\n",
    "    for ind, fit in zip(population, fitness_values):\n",
    "        ind.fitness.values = fit\n",
    "    \n",
    "    # Select the next generation individuals\n",
    "    offspring = algorithms.varAnd(population, toolbox, cxpb=crossover_rate, mutpb=mutation_rate)\n",
    "    \n",
    "    # Evaluate offspring\n",
    "    fitness_values = list(toolbox.map(toolbox.evaluate, offspring))\n",
    "    for ind, fit in zip(offspring, fitness_values):\n",
    "        ind.fitness.values = fit\n",
    "    \n",
    "    # Select the next generation from offspring\n",
    "    population = toolbox.select(offspring + population, k=population_size)\n",
    "    \n",
    "    # Collect the highest fitness value for this generation\n",
    "    max_fitness = np.array([ind.fitness.values[0] for ind in population]).mean()\n",
    "    max_fitness_values.append(max_fitness)\n",
    "\n",
    "    # Print the highest fitness value for this generation\n",
    "    print(f\"Generation {gen + 1}: Mean Fitness = {max_fitness}\")"
   ]
  },
  {
   "cell_type": "code",
   "execution_count": 7,
   "metadata": {},
   "outputs": [
    {
     "data": {
      "image/png": "[encoded data removed]",
      "text/plain": [
       "<Figure size 640x480 with 1 Axes>"
      ]
     },
     "metadata": {},
     "output_type": "display_data"
    },
    {
     "name": "stdout",
     "output_type": "stream",
     "text": [
      "Best individual: [0, 0, 0, 0, 0, 0, 0, 1, 0, 0, 0, 0, 0, 0, 0, 0, 0, 0, 0, 0, 0, 0, 0, 0, 1, 0, 0, 0, 0, 0, 0, 0, 0, 0, 1, 0, 0, 0, 0, 0, 0, 0, 0, 0, 0, 0, 0, 0, 0, 0, 0, 0, 0, 0, 0, 1, 0, 0, 0, 0, 0, 0, 0, 0, 0, 0, 0, 0, 0, 0, 0, 0, 0, 0, 1, 0, 0, 0, 0, 0, 0, 0, 0, 0, 0, 0, 0, 0, 0, 0, 0, 0, 0, 0, 0, 0, 0, 0, 0, 0, 0, 0, 0, 0, 0, 0, 0, 0, 0, 0, 0, 0, 0, 0, 0, 0, 0, 0, 0, 0, 0, 0, 0, 0, 0, 0, 0, 0, 0, 0, 0, 0, 0, 0, 0, 0, 0, 0, 0, 0, 0, 0, 0, 0, 0, 0, 0, 0, 0, 0, 0, 0, 0, 0, 0, 0, 0, 0, 0, 0, 0, 0, 0, 0, 0, 0, 0, 0, 0, 0, 0, 0, 1, 1, 0, 0, 0, 0, 0, 0, 0, 0, 0, 0, 0, 0, 0, 0, 0, 0, 0, 0, 0, 0, 0, 0, 0, 0, 0, 1, 0, 0, 0, 0, 0, 0, 0, 0, 0, 0, 0, 0, 1, 0, 0, 0, 0, 0, 0, 0, 0, 0, 0, 0, 0, 0, 0, 0, 0, 0, 0, 0, 0, 0, 0, 0, 0, 0, 0, 0, 0, 0, 1, 0, 0, 0, 0, 0, 0, 0, 1, 0, 0, 0, 0, 0, 0, 0, 0, 0, 0, 0, 1, 0, 0, 0, 0, 0, 0, 0, 0, 0, 0, 0, 0, 1, 0, 0, 0, 1, 0, 0, 0, 0, 0, 0, 0, 0, 0, 0, 1, 0, 0, 0, 0, 1, 0, 1, 0, 0, 1, 1, 0, 0, 0, 0, 0, 0, 0, 0, 1, 1, 0, 0, 0, 0, 0, 0, 0, 0, 0, 0, 0, 0, 0, 0, 0, 0, 0, 0, 0, 0, 0, 0, 0, 0, 0, 0, 0, 0, 0, 0, 0, 0, 0, 0, 0, 0, 0, 0, 1, 1, 0, 0, 0, 0, 0, 0, 0, 0, 0, 0, 0, 0, 0, 1, 0, 0, 1, 0, 1, 0, 0, 0, 0, 0, 0, 0, 1, 1, 0, 0, 0, 0, 1, 0, 0, 0, 0, 0, 0, 1, 0, 0, 0, 0, 0, 0, 0, 0, 0, 1, 0, 0, 0, 1, 0, 0, 0, 0, 0, 0, 0, 0, 0, 0, 0, 0, 0, 0, 0, 0, 0, 1, 0, 0, 0, 0, 1, 0, 0, 0, 0, 0, 0, 0, 0, 0, 0, 1, 1, 0, 1, 1, 0, 0, 0, 0, 0, 0, 0, 0, 0, 0, 0, 0, 0, 0, 0, 0, 0, 0, 1, 0, 0, 0, 0, 0, 1, 0, 0, 0, 0, 0, 0, 0, 0, 0, 1, 0, 0, 0, 0, 0, 0, 0, 1, 0, 0, 0, 1, 1, 1, 0, 0, 0, 0, 0, 0, 0]\n",
      "Selected features: [7, 24, 34, 55, 74, 172, 173, 199, 212, 242, 250, 262, 275, 279, 290, 295, 297, 300, 301, 310, 311, 350, 351, 365, 368, 370, 378, 379, 384, 391, 401, 405, 423, 428, 439, 440, 442, 443, 462, 468, 478, 486, 490, 491, 492]\n"
     ]
    }
   ],
   "source": [
    "# Plotting\n",
    "plt.plot(range(1, generations + 1), max_fitness_values, marker='o')\n",
    "plt.xlabel('Generation')\n",
    "plt.ylabel('Mean Fitness Value')\n",
    "plt.title('Evolution of Highest Fitness Value')\n",
    "plt.show()\n",
    "\n",
    "# Get the best individual from the final population\n",
    "best_individual = tools.selBest(population, k=1)[0]\n",
    "selected_features = [i for i, gene in enumerate(best_individual) if gene]\n",
    "\n",
    "print(\"Best individual:\", best_individual)\n",
    "print(\"Selected features:\", selected_features)"
   ]
  },
  {
   "cell_type": "code",
   "execution_count": 8,
   "metadata": {},
   "outputs": [],
   "source": [
    "genetic_features = X.columns[selected_features]"
   ]
  },
  {
   "cell_type": "code",
   "execution_count": 9,
   "metadata": {},
   "outputs": [
    {
     "data": {
      "text/plain": [
       "Index(['ATP6V1C2', 'FAM174C', 'HERC2P9', 'PDIA6', 'RASSF4', 'DNAJC9', 'FAM69B',\n",
       "       'KCNA6', 'ENO2', 'CCZ1B', 'LRATD2', 'PTDSS1', 'DRD5', 'KCNJ8', 'PSMD3',\n",
       "       'KCNJ4', 'ZFAND2B', 'NUCB2', 'PLOD1', 'DENND1A', 'NAT14', 'UGT3A1',\n",
       "       'TCL1A', 'ETV4', 'AGGF1', 'CACTIN', 'KRTAP9-4', 'CLCNKB', 'OR4C11',\n",
       "       'BTN2A2', 'CUL1', 'RABAC1', 'UBA5', 'SYT5', 'ONECUT2', 'HSP90AB3P',\n",
       "       'BTG4', 'CHST11', 'ZNF890P', 'TCEA1', 'C11orf40', 'CD99P1', 'MAPK14',\n",
       "       'NPL', 'TSPAN4'],\n",
       "      dtype='object')"
      ]
     },
     "execution_count": 9,
     "metadata": {},
     "output_type": "execute_result"
    }
   ],
   "source": [
    "genetic_features"
   ]
  },
  {
   "cell_type": "code",
   "execution_count": 10,
   "metadata": {},
   "outputs": [
    {
     "name": "stdout",
     "output_type": "stream",
     "text": [
      "Fold 1: 0.8527918781725888\n",
      "Fold 2: 0.8578680203045685\n",
      "Fold 3: 0.8527918781725888\n",
      "Fold 4: 0.8578680203045685\n",
      "Fold 5: 0.8316326530612245\n",
      "Fold 6: 0.8622448979591837\n",
      "Fold 7: 0.8418367346938775\n",
      "Fold 8: 0.8571428571428571\n",
      "Fold 9: 0.8622448979591837\n",
      "Fold 10: 0.8571428571428571\n",
      "Average Weighted Accuracy: 0.8533564694913498\n"
     ]
    },
    {
     "data": {
      "text/plain": [
       "0.8533564694913498"
      ]
     },
     "execution_count": 10,
     "metadata": {},
     "output_type": "execute_result"
    }
   ],
   "source": [
    "from sklearn.ensemble import RandomForestClassifier\n",
    "from k_fold import k_fold\n",
    "\n",
    "k_fold(classifier=RandomForestClassifier(n_estimators=1000, n_jobs=-1), \n",
    "                X=X[genetic_features], y=y)"
   ]
  },
  {
   "cell_type": "markdown",
   "metadata": {},
   "source": [
    "Compare with 15 features selected by random forest, the smaller set of features found by genetic algorithm perform better"
   ]
  },
  {
   "cell_type": "code",
   "execution_count": 11,
   "metadata": {},
   "outputs": [],
   "source": [
    "file_path = './top_features_rf_15.txt'\n",
    "\n",
    "with open(file_path, 'r') as file:\n",
    "    content = file.read().splitlines()\n",
    "\n",
    "top15 = content"
   ]
  },
  {
   "cell_type": "code",
   "execution_count": 12,
   "metadata": {},
   "outputs": [
    {
     "name": "stdout",
     "output_type": "stream",
     "text": [
      "Fold 1: 0.7969543147208121\n",
      "Fold 2: 0.7817258883248731\n",
      "Fold 3: 0.8477157360406091\n",
      "Fold 4: 0.7766497461928934\n",
      "Fold 5: 0.7857142857142857\n",
      "Fold 6: 0.8112244897959183\n",
      "Fold 7: 0.7959183673469388\n",
      "Fold 8: 0.8112244897959183\n",
      "Fold 9: 0.8214285714285714\n",
      "Fold 10: 0.8010204081632653\n",
      "Average Weighted Accuracy: 0.8029576297524084\n"
     ]
    },
    {
     "data": {
      "text/plain": [
       "0.8029576297524084"
      ]
     },
     "execution_count": 12,
     "metadata": {},
     "output_type": "execute_result"
    }
   ],
   "source": [
    "from sklearn.ensemble import RandomForestClassifier\n",
    "from k_fold import k_fold\n",
    "\n",
    "k_fold(classifier=RandomForestClassifier(n_estimators=1000, n_jobs=-1), \n",
    "                X=X[top15], y=y)"
   ]
  }
 ],
 "metadata": {
  "kernelspec": {
   "display_name": "Python 3",
   "language": "python",
   "name": "python3"
  },
  "language_info": {
   "codemirror_mode": {
    "name": "ipython",
    "version": 3
   },
   "file_extension": ".py",
   "mimetype": "text/x-python",
   "name": "python",
   "nbconvert_exporter": "python",
   "pygments_lexer": "ipython3",
   "version": "3.9.6"
  },
  "orig_nbformat": 4
 },
 "nbformat": 4,
 "nbformat_minor": 2
}
