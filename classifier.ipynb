{
 "cells": [
  {
   "cell_type": "code",
   "execution_count": 1,
   "metadata": {},
   "outputs": [],
   "source": [
    "import pandas as pd\n",
    "import xgboost as xgb\n",
    "from sklearn.ensemble import RandomForestClassifier\n",
    "from sklearn.tree import DecisionTreeClassifier\n",
    "from sklearn.svm import SVC\n",
    "from sklearn.neural_network import MLPClassifier\n",
    "from k_fold import k_fold\n",
    "\n",
    "df = pd.read_csv('./data/processed_mrna_zscore.csv')"
   ]
  },
  {
   "cell_type": "code",
   "execution_count": 2,
   "metadata": {},
   "outputs": [],
   "source": [
    "X = df.iloc[:, :-2]\n",
    "y = df.iloc[:, -1]"
   ]
  },
  {
   "cell_type": "code",
   "execution_count": 3,
   "metadata": {},
   "outputs": [
    {
     "name": "stdout",
     "output_type": "stream",
     "text": [
      "0       2\n",
      "1       1\n",
      "2       2\n",
      "3       2\n",
      "4       2\n",
      "       ..\n",
      "1959    2\n",
      "1960    2\n",
      "1961    2\n",
      "1962    2\n",
      "1963    2\n",
      "Name: OS_RANGE, Length: 1964, dtype: int64\n"
     ]
    }
   ],
   "source": [
    "label_mapping = {'short': 0, 'medium': 1, 'long': 2}\n",
    "y_numerical = y.map(label_mapping)\n",
    "\n",
    "# # Now, 'y_numerical' contains the encoded numerical values\n",
    "print(y_numerical)"
   ]
  },
  {
   "cell_type": "code",
   "execution_count": 4,
   "metadata": {},
   "outputs": [],
   "source": [
    "y = y_numerical"
   ]
  },
  {
   "cell_type": "code",
   "execution_count": 5,
   "metadata": {},
   "outputs": [],
   "source": [
    "randomState = 42\n",
    "randomForest = RandomForestClassifier(n_estimators=1000, n_jobs=-1)\n",
    "xgBoost = xgb.XGBClassifier(random_state=randomState, n_estimators=10, n_jobs=-1)\n",
    "decisionTree = DecisionTreeClassifier(random_state=randomState)\n",
    "svm = SVC(random_state=randomState)\n",
    "neuralNetwork = MLPClassifier(hidden_layer_sizes=(100, ), random_state=randomState, max_iter=1000)\n",
    "\n",
    "classifiers = [randomForest, xgBoost, decisionTree, svm, neuralNetwork]"
   ]
  },
  {
   "cell_type": "code",
   "execution_count": 6,
   "metadata": {},
   "outputs": [],
   "source": [
    "with open('./genetic_feats.txt', 'r') as file:\n",
    "    genetic = file.read().splitlines()\n",
    "    \n",
    "with open('./top_features_rf_15.txt', 'r') as file:\n",
    "    top15 = file.read().splitlines()\n",
    "\n",
    "with open('./top_features_rf_100.txt', 'r') as file:\n",
    "    top100 = file.read().splitlines()\n",
    "\n",
    "with open('./top_features_rf_500.txt', 'r') as file:\n",
    "    top500 = file.read().splitlines()\n",
    "\n",
    "featuresDic = {'genetic': genetic, 'top15': top15, 'top100': top100, 'top500': top500}"
   ]
  },
  {
   "cell_type": "code",
   "execution_count": 10,
   "metadata": {},
   "outputs": [
    {
     "name": "stdout",
     "output_type": "stream",
     "text": [
      "\n",
      "Feature: genetic\n",
      "Classifier: RandomForestClassifier\n",
      "Avg Weighted Accuracy: 0.8528462654097172\n",
      "Avg F1 Score: 0.8106753140454472\n",
      "\n",
      "Classifier: XGBClassifier\n",
      "Avg Weighted Accuracy: 0.7031311509375323\n",
      "Avg F1 Score: 0.7372668530237299\n",
      "\n",
      "Classifier: DecisionTreeClassifier\n",
      "Avg Weighted Accuracy: 0.6557987154252564\n",
      "Avg F1 Score: 0.7069628373282872\n",
      "\n",
      "Classifier: SVC\n",
      "Avg Weighted Accuracy: 0.8263752201388168\n",
      "Avg F1 Score: 0.7941720915415422\n",
      "\n",
      "Classifier: MLPClassifier\n",
      "Avg Weighted Accuracy: 0.7963431057702268\n",
      "Avg F1 Score: 0.7832198874482634\n",
      "\n",
      "\n",
      "Feature: top15\n",
      "Classifier: RandomForestClassifier\n",
      "Avg Weighted Accuracy: 0.8070418522739045\n",
      "Avg F1 Score: 0.8012377318013219\n",
      "\n",
      "Classifier: XGBClassifier\n",
      "Avg Weighted Accuracy: 0.6960841189267585\n",
      "Avg F1 Score: 0.7400030352477928\n",
      "\n",
      "Classifier: DecisionTreeClassifier\n",
      "Avg Weighted Accuracy: 0.649696985393142\n",
      "Avg F1 Score: 0.7033006544912602\n",
      "\n",
      "Classifier: SVC\n",
      "Avg Weighted Accuracy: 0.6893970786284056\n",
      "Avg F1 Score: 0.7342851725047633\n",
      "\n",
      "Classifier: MLPClassifier\n",
      "Avg Weighted Accuracy: 0.7657774785040921\n",
      "Avg F1 Score: 0.7729297353356179\n",
      "\n",
      "\n",
      "Feature: top100\n",
      "Classifier: RandomForestClassifier\n",
      "Avg Weighted Accuracy: 0.8396172174453538\n",
      "Avg F1 Score: 0.8099071104967072\n",
      "\n",
      "Classifier: XGBClassifier\n",
      "Avg Weighted Accuracy: 0.7545918367346939\n",
      "Avg F1 Score: 0.7732062081660257\n",
      "\n",
      "Classifier: DecisionTreeClassifier\n",
      "Avg Weighted Accuracy: 0.6812726613488035\n",
      "Avg F1 Score: 0.7243522851705523\n",
      "\n",
      "Classifier: SVC\n",
      "Avg Weighted Accuracy: 0.8543742877861804\n",
      "Avg F1 Score: 0.8188613784641559\n",
      "\n",
      "Classifier: MLPClassifier\n",
      "Avg Weighted Accuracy: 0.8218015124831659\n",
      "Avg F1 Score: 0.8094695956386213\n",
      "\n",
      "\n",
      "Feature: top500\n",
      "Classifier: RandomForestClassifier\n",
      "Avg Weighted Accuracy: 0.8523541904071272\n",
      "Avg F1 Score: 0.8122320105670061\n",
      "\n",
      "Classifier: XGBClassifier\n",
      "Avg Weighted Accuracy: 0.7897182223143064\n",
      "Avg F1 Score: 0.7927230726041795\n",
      "\n",
      "Classifier: DecisionTreeClassifier\n",
      "Avg Weighted Accuracy: 0.6772272868538278\n",
      "Avg F1 Score: 0.7232676556717188\n",
      "\n",
      "Classifier: SVC\n",
      "Avg Weighted Accuracy: 0.8655754687661867\n",
      "Avg F1 Score: 0.8129655758733852\n",
      "\n",
      "Classifier: MLPClassifier\n",
      "Avg Weighted Accuracy: 0.8457318968196417\n",
      "Avg F1 Score: 0.8273321402792876\n",
      "\n",
      "Max f1 score: 0.8273321402792876, acc: 0.8457318968196417,  feature: top500, classifier: MLPClassifier\n",
      "Max Accuracy: 0.8655754687661867, f1: 0.8129655758733852, feature: top500, classifier: SVC\n"
     ]
    }
   ],
   "source": [
    "maxF1Score = [0, 0, \"\", \"\"]\n",
    "maxAcc = [0, 0, \"\", \"\"]\n",
    "for key, features in featuresDic.items():\n",
    "    print(f\"\\nFeature: {key}\")\n",
    "    for classifier in classifiers:\n",
    "        acc, f1 = k_fold(classifier=classifier, X=X[features], y=y, verbose=False)\n",
    "        if f1 > maxF1Score[1]:\n",
    "            maxF1Score[0] = acc\n",
    "            maxF1Score[1] = f1\n",
    "            maxF1Score[2] = key\n",
    "            maxF1Score[3] = classifier.__class__.__name__\n",
    "        if acc > maxAcc[0]:\n",
    "            maxAcc[0] = acc\n",
    "            maxAcc[1] = f1\n",
    "            maxAcc[2] = key\n",
    "            maxAcc[3] = classifier.__class__.__name__\n",
    "            \n",
    "print(f\"Max f1 score: {maxF1Score[1]}, acc: {maxF1Score[0]},  feature: {maxF1Score[2]}, classifier: {maxF1Score[3]}\")\n",
    "print(f\"Max Accuracy: {maxAcc[0]}, f1: {maxAcc[1]}, feature: {maxAcc[2]}, classifier: {maxAcc[3]}\")"
   ]
  }
 ],
 "metadata": {
  "kernelspec": {
   "display_name": "Python 3 (ipykernel)",
   "language": "python",
   "name": "python3"
  },
  "language_info": {
   "codemirror_mode": {
    "name": "ipython",
    "version": 3
   },
   "file_extension": ".py",
   "mimetype": "text/x-python",
   "name": "python",
   "nbconvert_exporter": "python",
   "pygments_lexer": "ipython3",
   "version": "3.11.6"
  }
 },
 "nbformat": 4,
 "nbformat_minor": 2
}
