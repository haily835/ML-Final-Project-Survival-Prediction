{
 "cells": [
  {
   "cell_type": "code",
   "execution_count": 2,
   "metadata": {},
   "outputs": [],
   "source": [
    "import pandas as pd\n",
    "import numpy as np\n",
    "from sklearn.ensemble import RandomForestRegressor, RandomForestClassifier\n",
    "from k_fold import k_fold\n",
    "# plt.style.use('seaborn-colorblind')\n",
    "# %matplotlib inline\n",
    "# from feature_selection import filter_method as ft"
   ]
  },
  {
   "cell_type": "code",
   "execution_count": 19,
   "metadata": {},
   "outputs": [],
   "source": [
    "import pandas as pd\n",
    "df = pd.read_csv('./data/processed_mrna_zscore.csv')\n",
    "X = df.iloc[:, :-2]\n",
    "y = df.iloc[:, -1]"
   ]
  },
  {
   "cell_type": "code",
   "execution_count": 40,
   "metadata": {},
   "outputs": [
    {
     "data": {
      "text/plain": [
       "0        47.033333\n",
       "1        20.433333\n",
       "2       138.133333\n",
       "3       119.800000\n",
       "4        43.833333\n",
       "           ...    \n",
       "1959     57.300000\n",
       "1960    185.766667\n",
       "1961    191.466667\n",
       "1962    300.700000\n",
       "1963    282.300000\n",
       "Name: OS_MONTHS, Length: 1964, dtype: float64"
      ]
     },
     "execution_count": 40,
     "metadata": {},
     "output_type": "execute_result"
    }
   ],
   "source": [
    "df.iloc[:, -2]"
   ]
  },
  {
   "cell_type": "code",
   "execution_count": 77,
   "metadata": {},
   "outputs": [
    {
     "data": {
      "text/plain": [
       "OS_MONTHS\n",
       "long      1703\n",
       "medium     216\n",
       "short       45\n",
       "Name: count, dtype: int64"
      ]
     },
     "execution_count": 77,
     "metadata": {},
     "output_type": "execute_result"
    }
   ],
   "source": [
    "threshold1 = 12\n",
    "threshold2 = 36\n",
    "labels = ['short', 'medium', 'long']\n",
    "y = pd.cut(df['OS_MONTHS'], bins=[-float('inf'), threshold1, threshold2, float('inf')], labels=labels, right=False)\n",
    "class_counts = y.value_counts()\n",
    "class_counts"
   ]
  },
  {
   "cell_type": "code",
   "execution_count": 85,
   "metadata": {},
   "outputs": [
    {
     "data": {
      "text/plain": [
       "['ATP6V1C2',\n",
       " 'MRPS5',\n",
       " 'PDIA6',\n",
       " 'CEBPB',\n",
       " 'MASTL',\n",
       " 'HINT3',\n",
       " 'DNAJC9',\n",
       " 'MRFAP1L1',\n",
       " 'PURA',\n",
       " 'TTYH1',\n",
       " 'GAL',\n",
       " 'NDFIP1',\n",
       " 'ONECUT2',\n",
       " 'ANKAR',\n",
       " 'CDCA5',\n",
       " 'AUNIP',\n",
       " 'CA12',\n",
       " 'FAM83D',\n",
       " 'YTHDC2',\n",
       " 'MELK',\n",
       " 'RPP40',\n",
       " 'B3GALNT2',\n",
       " 'MIS18A',\n",
       " 'PHGDH',\n",
       " 'RABEP1',\n",
       " 'DLGAP5',\n",
       " 'SLC7A5',\n",
       " 'GLYATL2',\n",
       " 'SENP5',\n",
       " 'EYA3',\n",
       " 'RIOK3',\n",
       " 'G6PC3',\n",
       " 'NOP16',\n",
       " 'RBM28',\n",
       " 'ABCA3',\n",
       " 'KRT81',\n",
       " 'AHNAK',\n",
       " 'MAP3K21',\n",
       " 'VEZF1',\n",
       " 'RRM2',\n",
       " 'ANKHD1-EIF4EBP3',\n",
       " 'REEP5',\n",
       " 'PJA2',\n",
       " 'SPDL1',\n",
       " 'CASC1',\n",
       " 'RAI2',\n",
       " 'ADCY1',\n",
       " 'SLC4A7',\n",
       " 'UCK2',\n",
       " 'NCOA7',\n",
       " 'SUOX',\n",
       " 'ECE2',\n",
       " 'AFF3',\n",
       " 'CDK6',\n",
       " 'CENPW',\n",
       " 'SNRPA1',\n",
       " 'TCEAL3',\n",
       " 'C5orf34',\n",
       " 'JADE2',\n",
       " 'FOXA1',\n",
       " 'RUNDC1',\n",
       " 'ADGRG6',\n",
       " 'STK32B',\n",
       " 'C15orf39',\n",
       " 'FUT3',\n",
       " 'SLC35C1',\n",
       " 'DEGS2',\n",
       " 'DONSON',\n",
       " 'FOXM1',\n",
       " 'CXXC5',\n",
       " 'SAPCD2',\n",
       " 'MAATS1',\n",
       " 'KIF20A',\n",
       " 'EGFR',\n",
       " 'CDK1',\n",
       " 'HEXIM2',\n",
       " 'SPC25',\n",
       " 'GTPBP4',\n",
       " 'BTRC',\n",
       " 'STC2',\n",
       " 'LAD1',\n",
       " 'FAM120AOS',\n",
       " 'NDRG1',\n",
       " 'DRC3',\n",
       " 'ABAT',\n",
       " 'TFF1',\n",
       " 'C2CD5',\n",
       " 'PDCD5',\n",
       " 'BCAM',\n",
       " 'MDP1',\n",
       " 'TMEM144',\n",
       " 'C5',\n",
       " 'CXCL8',\n",
       " 'TBC1D9',\n",
       " 'RAD50',\n",
       " 'TMEM101',\n",
       " 'KCNG1',\n",
       " 'AP2B1',\n",
       " 'KIF4A',\n",
       " 'ABHD14A',\n",
       " 'CTSV',\n",
       " 'ACTL8',\n",
       " 'NCAPG',\n",
       " 'HSD17B8',\n",
       " 'NUDT5',\n",
       " 'PRKX',\n",
       " 'PARP3',\n",
       " 'KIF2C',\n",
       " 'CDC20',\n",
       " 'PTTG1',\n",
       " 'GTF3C5',\n",
       " 'GFRA1',\n",
       " 'GATAD2A',\n",
       " 'UGT8',\n",
       " 'KDM4B',\n",
       " 'ALYREF',\n",
       " 'MTPAP',\n",
       " 'CCZ1P-OR7E38P',\n",
       " 'CALML5',\n",
       " 'CAPN8',\n",
       " 'ZNF670',\n",
       " 'SKP2',\n",
       " 'LGALSL',\n",
       " 'TOMM40',\n",
       " 'SUSD3',\n",
       " 'EXO1',\n",
       " 'TIGD2',\n",
       " 'ANKHD1',\n",
       " 'COA3',\n",
       " 'WWP1',\n",
       " 'RAD54L',\n",
       " 'CSRP2',\n",
       " 'KIAA0040',\n",
       " 'FAAH',\n",
       " 'NUP50',\n",
       " 'GHDC',\n",
       " 'B4GALT5',\n",
       " 'CCNYL1',\n",
       " 'P2RX4',\n",
       " 'BUB1',\n",
       " 'PIGV',\n",
       " 'PGM1',\n",
       " 'MID1',\n",
       " 'C1orf21',\n",
       " 'CDCA7',\n",
       " 'AFTPH',\n",
       " 'SPG11',\n",
       " 'TES',\n",
       " 'MLPH',\n",
       " 'CALCOCO1',\n",
       " 'RCOR2',\n",
       " 'RACGAP1',\n",
       " 'PRSS23',\n",
       " 'CPNE2',\n",
       " 'CCDC9B',\n",
       " 'SMIM14',\n",
       " 'LOC157860',\n",
       " 'RNF145',\n",
       " 'UBE2V1',\n",
       " 'CDC45',\n",
       " 'PTP4A2',\n",
       " 'GLUD1',\n",
       " 'RARRES1',\n",
       " 'PLAAT1',\n",
       " 'WDR12',\n",
       " 'ABLIM3',\n",
       " 'PFKP',\n",
       " 'PRR11',\n",
       " 'XBP1',\n",
       " 'GPD1L',\n",
       " 'USP6NL',\n",
       " 'TBPL1',\n",
       " 'RBMS1',\n",
       " 'C9orf116',\n",
       " 'BBS4',\n",
       " 'CDC25A',\n",
       " 'CDK16',\n",
       " 'SKP1',\n",
       " 'TMEM219',\n",
       " 'DIP2A',\n",
       " 'HPS1',\n",
       " 'CENPA',\n",
       " 'FAM207A',\n",
       " 'MAPT',\n",
       " 'CYB5D2',\n",
       " 'RPL6',\n",
       " 'ALG3',\n",
       " 'CCNA2',\n",
       " 'FANCD2',\n",
       " 'MRPS17',\n",
       " 'SYBU',\n",
       " 'USB1',\n",
       " 'KIF14',\n",
       " 'KLHDC2',\n",
       " 'ATL2',\n",
       " 'CCDC66',\n",
       " 'VASN',\n",
       " 'NPAS1',\n",
       " 'ZBTB4',\n",
       " 'PGAM5',\n",
       " 'CDCA2',\n",
       " 'PHYHD1',\n",
       " 'ADCY9',\n",
       " 'GINS3',\n",
       " 'CARD9',\n",
       " 'C5orf30',\n",
       " 'PDSS1',\n",
       " 'WDR43',\n",
       " 'RRP36',\n",
       " 'AGR2',\n",
       " 'NUTF2',\n",
       " 'CCDC191',\n",
       " 'APOBEC3B',\n",
       " 'NUDT18',\n",
       " 'NIBAN2',\n",
       " 'SOX11',\n",
       " 'HJURP',\n",
       " 'GPR180',\n",
       " 'ZNF688',\n",
       " 'DDIT4',\n",
       " 'DNAJB11',\n",
       " 'ARSG',\n",
       " 'CCDC74A',\n",
       " 'E2F4',\n",
       " 'ESR1',\n",
       " 'MPP6',\n",
       " 'CFB',\n",
       " 'C3orf18',\n",
       " 'RAPGEF6',\n",
       " 'NICN1',\n",
       " 'ZNF750',\n",
       " 'MYL5',\n",
       " 'GASK1B',\n",
       " 'STMN1',\n",
       " 'DDX19A',\n",
       " 'ACADSB',\n",
       " 'TUBB',\n",
       " 'CPEB3',\n",
       " 'PALM2AKAP2',\n",
       " 'TNFRSF21',\n",
       " 'PREX1',\n",
       " 'RCOR3',\n",
       " 'KRT6A',\n",
       " 'NCCRP1',\n",
       " 'POP1',\n",
       " 'NR2E3',\n",
       " 'TP53TG1',\n",
       " 'KLHDC9',\n",
       " 'AMD1',\n",
       " 'CYCS',\n",
       " 'TTLL4',\n",
       " 'SOD2',\n",
       " 'CENPN',\n",
       " 'E2F3',\n",
       " 'RASAL1',\n",
       " 'CDR2L',\n",
       " 'APH1B',\n",
       " 'CCNE1',\n",
       " 'FBXO5',\n",
       " 'IL6ST',\n",
       " 'AIF1L',\n",
       " 'RGS11',\n",
       " 'TMEM189',\n",
       " 'SET',\n",
       " 'POLQ',\n",
       " 'CENPL',\n",
       " 'CCDC189',\n",
       " 'KIF23',\n",
       " 'LIMK2',\n",
       " 'YBX1',\n",
       " 'ATAD3A',\n",
       " 'BCL2',\n",
       " 'APPL2',\n",
       " 'RBKS',\n",
       " 'VAMP2',\n",
       " 'NDC1',\n",
       " 'CRIPAK',\n",
       " 'HSD17B4',\n",
       " 'GSDMC',\n",
       " 'MTFR2',\n",
       " 'APOOL',\n",
       " 'CFL1',\n",
       " 'SFT2D2',\n",
       " 'KNL1',\n",
       " 'UBE2C',\n",
       " 'PAK1IP1',\n",
       " 'LCN2',\n",
       " 'DNMT3B',\n",
       " 'ZMYND10',\n",
       " 'VGLL1',\n",
       " 'FSCN1',\n",
       " 'CENPO',\n",
       " 'RANBP1',\n",
       " 'SMAGP',\n",
       " 'MEIS3P1',\n",
       " 'ANGPTL4',\n",
       " 'CCDC170',\n",
       " 'SLC27A2',\n",
       " 'SMIM13',\n",
       " 'TXNL4A',\n",
       " 'PTEN',\n",
       " 'TROAP',\n",
       " 'LRP8',\n",
       " 'RPL29',\n",
       " 'ACOT4',\n",
       " 'PEX13',\n",
       " 'MAN2B2',\n",
       " 'ARPC5L',\n",
       " 'CPEB2',\n",
       " 'CDCA8',\n",
       " 'PSAT1',\n",
       " 'SKA1',\n",
       " 'BYSL',\n",
       " 'SLC7A8',\n",
       " 'RERG',\n",
       " 'SYNCRIP',\n",
       " 'SALL2',\n",
       " 'UBQLN1',\n",
       " 'SEC14L2',\n",
       " 'HAPLN3',\n",
       " 'SMCO4',\n",
       " 'PLEKHG1',\n",
       " 'SLC5A6',\n",
       " 'DHRS12',\n",
       " 'NOTCH1',\n",
       " 'SYS1',\n",
       " 'CD24',\n",
       " 'LRIG1',\n",
       " 'PLK1',\n",
       " 'PKP1',\n",
       " 'P4HTM',\n",
       " 'FSIP1',\n",
       " 'FLNB',\n",
       " 'YEATS2',\n",
       " 'MSANTD3',\n",
       " 'TICRR',\n",
       " 'FGD3',\n",
       " 'PPP1R14B',\n",
       " 'KIF13B',\n",
       " 'AGR3',\n",
       " 'ZNF385B',\n",
       " 'NME5',\n",
       " 'GAMT',\n",
       " 'NUP93',\n",
       " 'SETBP1',\n",
       " 'E2F2',\n",
       " 'TMEM26',\n",
       " 'DYNLRB2',\n",
       " 'CCNB2',\n",
       " 'MED27',\n",
       " 'S100A9',\n",
       " 'AURKA',\n",
       " 'AMER1',\n",
       " 'IFT46',\n",
       " 'PPP1R14C',\n",
       " 'ZNF302',\n",
       " 'ADGRG1',\n",
       " 'DNAAF1',\n",
       " 'SCUBE2',\n",
       " 'SRM',\n",
       " 'PFKL',\n",
       " 'CIAPIN1',\n",
       " 'NMB',\n",
       " 'AVP',\n",
       " 'KLF11',\n",
       " 'TCTN1',\n",
       " 'GARS1',\n",
       " 'BAIAP2L1',\n",
       " 'TRIP13',\n",
       " 'DNAJC12',\n",
       " 'SFXN2',\n",
       " 'IGIP',\n",
       " 'GMPS',\n",
       " 'LARP6',\n",
       " 'ZNF446',\n",
       " 'EN1',\n",
       " 'CALB2',\n",
       " 'RIPK4',\n",
       " 'PDCD6IP',\n",
       " 'PIMREG',\n",
       " 'TTK',\n",
       " 'BEND3',\n",
       " 'FAM13B',\n",
       " 'NCBP2',\n",
       " 'ANKRD30A',\n",
       " 'TYMS',\n",
       " 'KRT16P3',\n",
       " 'GATA3',\n",
       " 'HIATL1',\n",
       " 'NPRL2',\n",
       " 'PDZK1',\n",
       " 'FBP1',\n",
       " 'LRBA',\n",
       " 'RSPH1',\n",
       " 'RLN2',\n",
       " 'PGR',\n",
       " 'CA9',\n",
       " 'S100A8',\n",
       " 'NUP155',\n",
       " 'CSNK2A3',\n",
       " 'CDC123',\n",
       " 'CENPE',\n",
       " 'PCBD2',\n",
       " 'ASPM',\n",
       " 'LMNTD2',\n",
       " 'FZD9',\n",
       " 'DEPDC1',\n",
       " 'DNALI1',\n",
       " 'AGFG1',\n",
       " 'STIL',\n",
       " 'CCPG1',\n",
       " 'LZTFL1',\n",
       " 'CENPI',\n",
       " 'NUS1',\n",
       " 'UTP11',\n",
       " 'MEMO1',\n",
       " 'LONRF2',\n",
       " 'NIP7',\n",
       " 'CIP2A',\n",
       " 'PLAC9P1',\n",
       " 'ADIRF',\n",
       " 'TPX2',\n",
       " 'MTHFD1L',\n",
       " 'NAT1',\n",
       " 'TMEM170A',\n",
       " 'MRPL37',\n",
       " 'CTPS1',\n",
       " 'CDCA3',\n",
       " 'POLR2F',\n",
       " 'RNF217',\n",
       " 'ENO1',\n",
       " 'CMC2',\n",
       " 'LYRM9',\n",
       " 'IGF1R',\n",
       " 'CYB5D1',\n",
       " 'DBNDD2',\n",
       " 'RETREG1',\n",
       " 'PDHA1',\n",
       " 'NME3',\n",
       " 'CST3',\n",
       " 'ANLN',\n",
       " 'HPDL',\n",
       " 'HPN',\n",
       " 'GSK3B',\n",
       " 'WDR19',\n",
       " 'EVL',\n",
       " 'ELOA',\n",
       " 'ARIH1',\n",
       " 'PNPLA4',\n",
       " 'PGK1',\n",
       " 'CBX2',\n",
       " 'ORC1',\n",
       " 'TGFA',\n",
       " 'CFAP70',\n",
       " 'RSRC1',\n",
       " 'CDC42EP1',\n",
       " 'AURKB',\n",
       " 'TEX10',\n",
       " 'CCDC103',\n",
       " 'LYPD6',\n",
       " 'ORAI3',\n",
       " 'POLR2D',\n",
       " 'FYCO1',\n",
       " 'CHCHD5',\n",
       " 'NUDT19',\n",
       " 'HDAC2',\n",
       " 'IFT140',\n",
       " 'GTSE1',\n",
       " 'OIP5',\n",
       " 'ART3',\n",
       " 'SRPK1',\n",
       " 'SLC22A5',\n",
       " 'NMU',\n",
       " 'RDH10',\n",
       " 'INAVA',\n",
       " 'SGO1',\n",
       " 'WNK4',\n",
       " 'LOC346887',\n",
       " 'GSTM3',\n",
       " 'PRRG1',\n",
       " 'CFAP69',\n",
       " 'ACOT9',\n",
       " 'PPM1J',\n",
       " 'CHEK1',\n",
       " 'NOSTRIN',\n",
       " 'CHST15',\n",
       " 'EXOC6',\n",
       " 'MYB',\n",
       " 'IDUA',\n",
       " 'HMGA1',\n",
       " 'DELE1',\n",
       " 'IGFBP4',\n",
       " 'C12orf45',\n",
       " 'CEP55',\n",
       " 'CIRBP',\n",
       " 'LMNB2',\n",
       " 'MCM10',\n",
       " 'RBM43',\n",
       " 'CDH3',\n",
       " 'SLC39A6']"
      ]
     },
     "execution_count": 85,
     "metadata": {},
     "output_type": "execute_result"
    }
   ],
   "source": [
    "from sklearn.feature_selection import SelectKBest, f_classif\n",
    "k_best = SelectKBest(score_func=f_classif, k=100)\n",
    "# Fit and transform the feature matrix\n",
    "X_kbest = k_best.fit_transform(X, y)\n",
    "\n",
    "# Print the indices of the selected features\n",
    "selector = SelectKBest(f_classif, k=500)\n",
    "selector.fit(X, y)\n",
    "selected_feature_f_scores = X.columns[selector.get_support()].to_list()\n",
    "selected_feature_f_scores"
   ]
  },
  {
   "cell_type": "code",
   "execution_count": 84,
   "metadata": {},
   "outputs": [
    {
     "name": "stdout",
     "output_type": "stream",
     "text": [
      "Fold 1: 0.8426395939086294\n",
      "Fold 2: 0.8324873096446701\n",
      "Fold 3: 0.8578680203045685\n",
      "Fold 4: 0.8578680203045685\n",
      "Fold 5: 0.8469387755102041\n",
      "Fold 6: 0.8571428571428571\n",
      "Fold 7: 0.8469387755102041\n",
      "Fold 8: 0.8571428571428571\n",
      "Fold 9: 0.8724489795918368\n",
      "Fold 10: 0.8214285714285714\n",
      "Average Weighted Accuracy: 0.8492903760488968\n"
     ]
    }
   ],
   "source": [
    "# Full 500 genes\n",
    "scores = k_fold(classifier=RandomForestClassifier(n_estimators=1000, n_jobs=-1), \n",
    "                X=X[selected_feature_f_scores], y=y)"
   ]
  },
  {
   "cell_type": "markdown",
   "metadata": {},
   "source": [
    "**Forward**"
   ]
  },
  {
   "cell_type": "code",
   "execution_count": 118,
   "metadata": {},
   "outputs": [],
   "source": [
    "from sklearn.feature_selection import SequentialFeatureSelector\n",
    "\n",
    "def run_seq(X, y,\n",
    "        clf=RandomForestClassifier(n_estimators=100, n_jobs=-1),\n",
    "         n_feats = 10, direction='forward', scoring='accuracy', cv=5):\n",
    "    sfs = SequentialFeatureSelector(clf, n_features_to_select=n_feats, direction=direction, scoring=scoring, cv=cv, n_jobs=-1)\n",
    "    sfs.fit(X, y)\n",
    "    selected_feature_names = X.columns[sfs.get_support()]\n",
    "    return selected_feature_names\n"
   ]
  },
  {
   "cell_type": "code",
   "execution_count": 119,
   "metadata": {},
   "outputs": [],
   "source": [
    "selected = run_seq(X[selected_feature_f_scores],y)"
   ]
  },
  {
   "cell_type": "code",
   "execution_count": 120,
   "metadata": {},
   "outputs": [
    {
     "data": {
      "text/plain": [
       "Index(['BTRC', 'PARP3', 'USP6NL', 'PREX1', 'LARP6', 'FAM13B', 'TMEM170A',\n",
       "       'CST3', 'FYCO1', 'ART3'],\n",
       "      dtype='object')"
      ]
     },
     "execution_count": 120,
     "metadata": {},
     "output_type": "execute_result"
    }
   ],
   "source": [
    "selected"
   ]
  },
  {
   "cell_type": "code",
   "execution_count": 122,
   "metadata": {},
   "outputs": [
    {
     "name": "stdout",
     "output_type": "stream",
     "text": [
      "Fold 1: 0.7918781725888325\n",
      "Fold 2: 0.7817258883248731\n",
      "Fold 3: 0.7715736040609137\n",
      "Fold 4: 0.7918781725888325\n",
      "Fold 5: 0.8010204081632653\n",
      "Fold 6: 0.7806122448979592\n",
      "Fold 7: 0.7806122448979592\n",
      "Fold 8: 0.8163265306122449\n",
      "Fold 9: 0.8010204081632653\n",
      "Fold 10: 0.8061224489795918\n",
      "Average Weighted Accuracy: 0.7922770123277737\n"
     ]
    },
    {
     "data": {
      "text/plain": [
       "0.7922770123277737"
      ]
     },
     "execution_count": 122,
     "metadata": {},
     "output_type": "execute_result"
    }
   ],
   "source": [
    "# 10-gene\n",
    "k_fold(classifier=RandomForestClassifier(n_estimators=1000, n_jobs=-1, random_state=0), \n",
    "                X=X[['BTRC', 'PARP3', 'USP6NL', 'PREX1', 'LARP6', 'FAM13B', 'TMEM170A',\n",
    "       'CST3', 'FYCO1', 'ART3']], y=y)"
   ]
  },
  {
   "cell_type": "markdown",
   "metadata": {},
   "source": [
    "Select 20 out of 500, take more than 1 hour"
   ]
  },
  {
   "cell_type": "code",
   "execution_count": 123,
   "metadata": {},
   "outputs": [],
   "source": [
    "selected = run_seq(X[selected_feature_f_scores],y, n_feats=20)"
   ]
  },
  {
   "cell_type": "code",
   "execution_count": 124,
   "metadata": {},
   "outputs": [
    {
     "data": {
      "text/plain": [
       "Index(['ONECUT2', 'SUOX', 'RUNDC1', 'MTPAP', 'SKP2', 'ALG3', 'E2F4', 'KRT6A',\n",
       "       'CENPL', 'ARPC5L', 'SKA1', 'FSIP1', 'GAMT', 'CIAPIN1', 'PCBD2', 'CST3',\n",
       "       'OIP5', 'PPM1J', 'NOSTRIN', 'EXOC6'],\n",
       "      dtype='object')"
      ]
     },
     "execution_count": 124,
     "metadata": {},
     "output_type": "execute_result"
    }
   ],
   "source": [
    "selected"
   ]
  },
  {
   "cell_type": "code",
   "execution_count": 125,
   "metadata": {},
   "outputs": [
    {
     "name": "stdout",
     "output_type": "stream",
     "text": [
      "Fold 1: 0.7969543147208121\n",
      "Fold 2: 0.7868020304568528\n",
      "Fold 3: 0.8274111675126904\n",
      "Fold 4: 0.8324873096446701\n",
      "Fold 5: 0.7908163265306123\n",
      "Fold 6: 0.8163265306122449\n",
      "Fold 7: 0.8214285714285714\n",
      "Fold 8: 0.826530612244898\n",
      "Fold 9: 0.8316326530612245\n",
      "Fold 10: 0.7908163265306123\n",
      "Average Weighted Accuracy: 0.8121205842743189\n"
     ]
    },
    {
     "data": {
      "text/plain": [
       "0.8121205842743189"
      ]
     },
     "execution_count": 125,
     "metadata": {},
     "output_type": "execute_result"
    }
   ],
   "source": [
    "# 20 genes\n",
    "k_fold(classifier=RandomForestClassifier(n_estimators=1000, n_jobs=-1, random_state=0), \n",
    "                X=X[['ONECUT2', 'SUOX', 'RUNDC1', 'MTPAP', 'SKP2', 'ALG3', 'E2F4', 'KRT6A',\n",
    "       'CENPL', 'ARPC5L', 'SKA1', 'FSIP1', 'GAMT', 'CIAPIN1', 'PCBD2', 'CST3',\n",
    "       'OIP5', 'PPM1J', 'NOSTRIN', 'EXOC6']], y=y)"
   ]
  },
  {
   "cell_type": "markdown",
   "metadata": {},
   "source": [
    "**Backward (SKIP: Can not improve the accuracy)**"
   ]
  },
  {
   "cell_type": "code",
   "execution_count": 33,
   "metadata": {},
   "outputs": [
    {
     "name": "stderr",
     "output_type": "stream",
     "text": [
      "[Parallel(n_jobs=1)]: Done  49 tasks      | elapsed:    5.6s\n",
      "Features: 99/15[Parallel(n_jobs=1)]: Done  49 tasks      | elapsed:    5.7s\n",
      "Features: 98/15[Parallel(n_jobs=1)]: Done  49 tasks      | elapsed:    5.8s\n",
      "Features: 97/15[Parallel(n_jobs=1)]: Done  49 tasks      | elapsed:    5.8s\n",
      "Features: 96/15[Parallel(n_jobs=1)]: Done  49 tasks      | elapsed:    5.6s\n",
      "Features: 95/15[Parallel(n_jobs=1)]: Done  49 tasks      | elapsed:    5.3s\n",
      "Features: 94/15[Parallel(n_jobs=1)]: Done  49 tasks      | elapsed:    5.6s\n",
      "Features: 93/15[Parallel(n_jobs=1)]: Done  49 tasks      | elapsed:    5.5s\n",
      "Features: 92/15[Parallel(n_jobs=1)]: Done  49 tasks      | elapsed:    5.6s\n",
      "Features: 91/15[Parallel(n_jobs=1)]: Done  49 tasks      | elapsed:    5.8s\n",
      "Features: 90/15[Parallel(n_jobs=1)]: Done  49 tasks      | elapsed:    5.7s\n",
      "Features: 89/15[Parallel(n_jobs=1)]: Done  49 tasks      | elapsed:    5.4s\n",
      "Features: 88/15[Parallel(n_jobs=1)]: Done  49 tasks      | elapsed:    5.8s\n",
      "Features: 87/15[Parallel(n_jobs=1)]: Done  49 tasks      | elapsed:    5.5s\n",
      "Features: 86/15[Parallel(n_jobs=1)]: Done  49 tasks      | elapsed:    5.4s\n",
      "Features: 85/15[Parallel(n_jobs=1)]: Done  49 tasks      | elapsed:    5.3s\n",
      "Features: 84/15[Parallel(n_jobs=1)]: Done  49 tasks      | elapsed:    5.5s\n",
      "Features: 83/15[Parallel(n_jobs=1)]: Done  49 tasks      | elapsed:    5.7s\n",
      "Features: 82/15[Parallel(n_jobs=1)]: Done  49 tasks      | elapsed:    5.7s\n",
      "Features: 81/15[Parallel(n_jobs=1)]: Done  49 tasks      | elapsed:    4.9s\n",
      "Features: 80/15[Parallel(n_jobs=1)]: Done  49 tasks      | elapsed:    4.8s\n",
      "Features: 79/15[Parallel(n_jobs=1)]: Done  49 tasks      | elapsed:    4.8s\n",
      "Features: 78/15[Parallel(n_jobs=1)]: Done  49 tasks      | elapsed:    4.8s\n",
      "Features: 77/15[Parallel(n_jobs=1)]: Done  49 tasks      | elapsed:    4.7s\n",
      "Features: 76/15[Parallel(n_jobs=1)]: Done  49 tasks      | elapsed:    4.9s\n",
      "Features: 75/15[Parallel(n_jobs=1)]: Done  49 tasks      | elapsed:    4.6s\n",
      "Features: 74/15[Parallel(n_jobs=1)]: Done  49 tasks      | elapsed:    4.9s\n",
      "Features: 73/15[Parallel(n_jobs=1)]: Done  49 tasks      | elapsed:    4.8s\n",
      "Features: 72/15[Parallel(n_jobs=1)]: Done  49 tasks      | elapsed:    4.5s\n",
      "Features: 71/15[Parallel(n_jobs=1)]: Done  49 tasks      | elapsed:    4.5s\n",
      "Features: 70/15[Parallel(n_jobs=1)]: Done  49 tasks      | elapsed:    4.6s\n",
      "Features: 69/15[Parallel(n_jobs=1)]: Done  49 tasks      | elapsed:    4.7s\n",
      "Features: 68/15[Parallel(n_jobs=1)]: Done  49 tasks      | elapsed:    4.7s\n",
      "Features: 67/15[Parallel(n_jobs=1)]: Done  49 tasks      | elapsed:    4.8s\n",
      "Features: 66/15[Parallel(n_jobs=1)]: Done  49 tasks      | elapsed:    4.7s\n",
      "Features: 65/15[Parallel(n_jobs=1)]: Done  49 tasks      | elapsed:    4.7s\n",
      "Features: 64/15[Parallel(n_jobs=1)]: Done  49 tasks      | elapsed:    5.0s\n",
      "Features: 63/15[Parallel(n_jobs=1)]: Done  49 tasks      | elapsed:    4.5s\n",
      "Features: 62/15[Parallel(n_jobs=1)]: Done  49 tasks      | elapsed:    4.7s\n",
      "Features: 61/15[Parallel(n_jobs=1)]: Done  49 tasks      | elapsed:    4.5s\n",
      "Features: 60/15[Parallel(n_jobs=1)]: Done  49 tasks      | elapsed:    4.6s\n",
      "Features: 59/15[Parallel(n_jobs=1)]: Done  49 tasks      | elapsed:    4.6s\n",
      "Features: 58/15[Parallel(n_jobs=1)]: Done  49 tasks      | elapsed:    4.5s\n",
      "Features: 57/15[Parallel(n_jobs=1)]: Done  49 tasks      | elapsed:    4.5s\n",
      "Features: 56/15[Parallel(n_jobs=1)]: Done  49 tasks      | elapsed:    4.5s\n",
      "Features: 55/15[Parallel(n_jobs=1)]: Done  49 tasks      | elapsed:    4.4s\n",
      "Features: 54/15[Parallel(n_jobs=1)]: Done  49 tasks      | elapsed:    4.4s\n",
      "Features: 53/15[Parallel(n_jobs=1)]: Done  49 tasks      | elapsed:    4.5s\n",
      "Features: 52/15[Parallel(n_jobs=1)]: Done  49 tasks      | elapsed:    4.5s\n",
      "Features: 51/15[Parallel(n_jobs=1)]: Done  49 tasks      | elapsed:    4.5s\n",
      "Features: 50/15[Parallel(n_jobs=1)]: Done  49 tasks      | elapsed:    4.5s\n",
      "Features: 49/15[Parallel(n_jobs=1)]: Done  49 tasks      | elapsed:    4.5s\n",
      "[Parallel(n_jobs=1)]: Done  49 tasks      | elapsed:    4.5s\n",
      "Features: 15/15"
     ]
    }
   ],
   "source": [
    "sfs2 = SFS(RandomForestClassifier(n_jobs=-1,n_estimators=5), \n",
    "           k_features=15, \n",
    "           forward=False, \n",
    "           floating=False, \n",
    "           verbose=1,\n",
    "           scoring='accuracy',\n",
    "           cv=3)\n",
    "\n",
    "sfs2 = sfs2.fit(np.array(X[selected_feature_f_scores].fillna(0)), y)"
   ]
  },
  {
   "cell_type": "code",
   "execution_count": 34,
   "metadata": {},
   "outputs": [
    {
     "data": {
      "text/plain": [
       "Index(['ASIC5', 'COLEC10', 'TMEM29', 'KCNG1', 'ZNF501', 'OR7D2', 'ACTG1P20',\n",
       "       'WAKMAR2', 'TM4SF4', 'KLHDC2', 'CDHR1', 'FGD3', 'OLFM4', 'PDCD2',\n",
       "       'ESR1'],\n",
       "      dtype='object')"
      ]
     },
     "execution_count": 34,
     "metadata": {},
     "output_type": "execute_result"
    }
   ],
   "source": [
    "selected_feat2= X[selected_feature_f_scores].columns[list(sfs2.k_feature_idx_)]\n",
    "selected_feat2"
   ]
  },
  {
   "cell_type": "code",
   "execution_count": 35,
   "metadata": {},
   "outputs": [
    {
     "name": "stdout",
     "output_type": "stream",
     "text": [
      "Fold 1: 0.8274111675126904\n",
      "Fold 2: 0.7817258883248731\n",
      "Fold 3: 0.8121827411167513\n",
      "Fold 4: 0.8071065989847716\n",
      "Fold 5: 0.7857142857142857\n",
      "Fold 6: 0.8163265306122449\n",
      "Fold 7: 0.8316326530612245\n",
      "Fold 8: 0.7704081632653061\n",
      "Fold 9: 0.8163265306122449\n",
      "Fold 10: 0.8469387755102041\n",
      "Average Weighted Accuracy: 0.8095773334714597\n"
     ]
    }
   ],
   "source": [
    "scores = k_fold(classifier=RandomForestClassifier(n_estimators=1000, n_jobs=-1), \n",
    "                X=X[selected_feat2], y=y)"
   ]
  },
  {
   "cell_type": "markdown",
   "metadata": {},
   "source": [
    "**Exhaustive Feature Selection (SKIP)**"
   ]
  },
  {
   "cell_type": "code",
   "execution_count": null,
   "metadata": {},
   "outputs": [],
   "source": [
    "efs1 = EFS(RandomForestClassifier(n_jobs=-1,n_estimators=5, random_state=0), \n",
    "           max_features=10,\n",
    "           min_features=10,\n",
    "           scoring='accuracy',\n",
    "           print_progress=True,\n",
    "           cv=2, n_jobs=-1)\n",
    "\n",
    "\n",
    "efs1 = efs1.fit(np.array(X[selected_feature_f_scores].fillna(0)), y)"
   ]
  },
  {
   "cell_type": "code",
   "execution_count": null,
   "metadata": {},
   "outputs": [],
   "source": [
    "selected_feat3= X[selected_feature_f_scores].columns[list(efs1.best_idx_)]\n",
    "selected_feat3"
   ]
  },
  {
   "cell_type": "markdown",
   "metadata": {},
   "source": [
    "**Recursive Feature Elimination**"
   ]
  },
  {
   "cell_type": "code",
   "execution_count": 129,
   "metadata": {},
   "outputs": [
    {
     "data": {
      "text/plain": [
       "['RBM28',\n",
       " 'SLC35C1',\n",
       " 'GFRA1',\n",
       " 'ZNF670',\n",
       " 'B4GALT5',\n",
       " 'PIGV',\n",
       " 'RPL6',\n",
       " 'SOX11',\n",
       " 'ZNF750',\n",
       " 'ACADSB',\n",
       " 'PREX1',\n",
       " 'RASAL1',\n",
       " 'CENPL',\n",
       " 'BCL2',\n",
       " 'KNL1',\n",
       " 'PTEN',\n",
       " 'PPP1R14B',\n",
       " 'ADGRG1',\n",
       " 'AVP',\n",
       " 'CALB2',\n",
       " 'PGR',\n",
       " 'CA9',\n",
       " 'NUP155',\n",
       " 'CSNK2A3',\n",
       " 'HPDL',\n",
       " 'ELOA',\n",
       " 'NUDT19',\n",
       " 'INAVA',\n",
       " 'HMGA1',\n",
       " 'C12orf45']"
      ]
     },
     "execution_count": 129,
     "metadata": {},
     "output_type": "execute_result"
    }
   ],
   "source": [
    "from sklearn.feature_selection import RFE\n",
    "rfe_selector = RFE(\n",
    "    estimator=RandomForestClassifier(n_jobs=-1,n_estimators=100, random_state=0), \n",
    "    n_features_to_select=30)\n",
    "\n",
    "rfe_selector.fit_transform(X[selected_feature_f_scores], y)\n",
    "selected_feat4 = X[selected_feature_f_scores].columns[rfe_selector.support_].tolist()\n",
    "selected_feat4"
   ]
  },
  {
   "cell_type": "code",
   "execution_count": 130,
   "metadata": {},
   "outputs": [],
   "source": [
    "# The selected features from previous execution with different n_features_to_select\n",
    "\n",
    "top15 = ['SLC35C1', 'ZNF670', 'B4GALT5','RPL6','ZNF750','PREX1','CENPL','PTEN','ADGRG1','AVP','CA9','ELOA','INAVA','HMGA1','C12orf45']\n",
    "top30 = ['RBM28','SLC35C1','GFRA1','ZNF670','B4GALT5','PIGV','RPL6','SOX11','ZNF750','ACADSB','PREX1','RASAL1','CENPL','BCL2','KNL1','PTEN','PPP1R14B','ADGRG1','AVP','CALB2','PGR','CA9','NUP155','CSNK2A3','HPDL','ELOA','NUDT19','INAVA','HMGA1','C12orf45']\n"
   ]
  },
  {
   "cell_type": "code",
   "execution_count": 131,
   "metadata": {},
   "outputs": [
    {
     "name": "stdout",
     "output_type": "stream",
     "text": [
      "Fold 1: 0.8223350253807107\n",
      "Fold 2: 0.7868020304568528\n",
      "Fold 3: 0.8477157360406091\n",
      "Fold 4: 0.8324873096446701\n",
      "Fold 5: 0.8214285714285714\n",
      "Fold 6: 0.8418367346938775\n",
      "Fold 7: 0.8367346938775511\n",
      "Fold 8: 0.8520408163265306\n",
      "Fold 9: 0.8826530612244898\n",
      "Fold 10: 0.8010204081632653\n",
      "Average Weighted Accuracy: 0.8325054387237127\n"
     ]
    }
   ],
   "source": [
    "scores = k_fold(classifier=RandomForestClassifier(n_estimators=1000, n_jobs=-1, random_state=0), \n",
    "                X=X[top30], y=y)"
   ]
  },
  {
   "cell_type": "code",
   "execution_count": 132,
   "metadata": {},
   "outputs": [
    {
     "name": "stdout",
     "output_type": "stream",
     "text": [
      "Fold 1: 0.7868020304568528\n",
      "Fold 2: 0.7969543147208121\n",
      "Fold 3: 0.817258883248731\n",
      "Fold 4: 0.8121827411167513\n",
      "Fold 5: 0.8367346938775511\n",
      "Fold 6: 0.8367346938775511\n",
      "Fold 7: 0.8316326530612245\n",
      "Fold 8: 0.8367346938775511\n",
      "Fold 9: 0.8469387755102041\n",
      "Fold 10: 0.7908163265306123\n",
      "Average Weighted Accuracy: 0.8192789806277843\n"
     ]
    }
   ],
   "source": [
    "scores = k_fold(classifier=RandomForestClassifier(n_estimators=1000, n_jobs=-1, random_state=0), \n",
    "                X=X[top15], y=y)"
   ]
  }
 ],
 "metadata": {
  "kernelspec": {
   "display_name": "Python 3",
   "language": "python",
   "name": "python3"
  },
  "language_info": {
   "codemirror_mode": {
    "name": "ipython",
    "version": 3
   },
   "file_extension": ".py",
   "mimetype": "text/x-python",
   "name": "python",
   "nbconvert_exporter": "python",
   "pygments_lexer": "ipython3",
   "version": "3.9.6"
  },
  "orig_nbformat": 4
 },
 "nbformat": 4,
 "nbformat_minor": 2
}
